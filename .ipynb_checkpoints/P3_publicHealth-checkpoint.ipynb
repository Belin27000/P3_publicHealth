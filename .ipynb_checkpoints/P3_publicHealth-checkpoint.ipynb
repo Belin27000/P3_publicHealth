{
 "cells": [
  {
   "cell_type": "code",
   "execution_count": 71,
   "id": "afd46565-a214-41c9-a2bb-dd76d592c2ca",
   "metadata": {},
   "outputs": [],
   "source": [
    "import numpy as np\n",
    "import pandas as pd\n",
    "\n",
    "import missingno as msno"
   ]
  },
  {
   "cell_type": "code",
   "execution_count": 51,
   "id": "87fe645c-05eb-49c9-b628-382d2de57a32",
   "metadata": {},
   "outputs": [],
   "source": [
    "data = pd.read_csv(\"datas/openfoodfacts.csv\", sep=\"\\t\", encoding=\"utf-8\", on_bad_lines=\"skip\", low_memory=False)"
   ]
  },
  {
   "cell_type": "code",
   "execution_count": 52,
   "id": "98832b19-7f69-483d-8122-0df983096028",
   "metadata": {},
   "outputs": [
    {
     "data": {
      "text/plain": [
       "(320772, 162)"
      ]
     },
     "execution_count": 52,
     "metadata": {},
     "output_type": "execute_result"
    }
   ],
   "source": [
    "data.shape"
   ]
  },
  {
   "cell_type": "code",
   "execution_count": null,
   "id": "82aeb73f-87dc-41b7-a882-d19225355163",
   "metadata": {},
   "outputs": [],
   "source": []
  }
 ],
 "metadata": {
  "kernelspec": {
   "display_name": "Python (P3_env)",
   "language": "python",
   "name": "p3_env"
  },
  "language_info": {
   "codemirror_mode": {
    "name": "ipython",
    "version": 3
   },
   "file_extension": ".py",
   "mimetype": "text/x-python",
   "name": "python",
   "nbconvert_exporter": "python",
   "pygments_lexer": "ipython3",
   "version": "3.11.7"
  }
 },
 "nbformat": 4,
 "nbformat_minor": 5
}
