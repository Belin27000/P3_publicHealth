{
 "cells": [
  {
   "cell_type": "markdown",
   "id": "5bd95d9a-3c5e-427b-b3e5-04c4e771744b",
   "metadata": {},
   "source": [
    "# Ce projet fonctionne avec les versions des package suivants:\n",
    "\n",
    "- matplotlib==3.9.0\n",
    "- pandas==2.2.2\n",
    "- seaborn==0.13.2\n",
    "- missingno==0.5.2"
   ]
  },
  {
   "cell_type": "markdown",
   "id": "6ee10346-955f-4247-8263-7414ca8277ec",
   "metadata": {},
   "source": [
    "## The Data\n",
    "This is a dataset of food products listing the ingredients and nutritional facts of more than 300,000 foods from over 150 countries in the world. The data is meant to be free to the public to help users decode food labels, and make better food choices in general. The dataset contains more than 300,000 rows over 163 columns. However, as we will see there are a lot of missing or obviously incorrect values.<br/>\n",
    "Generalities:\n",
    "\n",
    "- fields that end with _t are dates in the UNIX timestamp format (number of seconds since Jan 1st 1970)\n",
    "- fields that end with _datetime are dates in the iso8601 format: yyyy-mm-ddThh:mn:ssZ\n",
    "- fields that end with _tags are comma separated list of tags (e.g. categories_tags is the set of normalized tags computer from the categories field)\n",
    "- fields that end with a language 2 letter code (e.g. fr for French) is the set of tags in that language\n",
    "- fields that end with _100g correspond to the amount of a nutriment (in g, or kJ for energy) for 100 g or 100 ml of product\n",
    "- fields that end with _serving correspond to the amount of a nutriment (in g, or kJ for energy) for 1 serving of the product\n"
   ]
  },
  {
   "cell_type": "markdown",
   "id": "c66acc3a-1a75-4097-93da-d61bb0fc68a5",
   "metadata": {},
   "source": [
    "# Nettoyer et Filtrer les Features et Produits\n",
    "## 1.1. Collecter et Préparer les Données Brutes\n",
    "### 1. Charger les données dans un DataFrame Pandas\n"
   ]
  },
  {
   "cell_type": "code",
   "execution_count": 4,
   "id": "afd46565-a214-41c9-a2bb-dd76d592c2ca",
   "metadata": {},
   "outputs": [],
   "source": [
    "import tkinter as tk\n",
    "from tkinter import filedialog\n",
    "import numpy as np\n",
    "import pandas as pd\n",
    "\n",
    "import missingno as msno\n",
    "\n",
    "import matplotlib.pyplot as plt\n",
    "import seaborn as sns"
   ]
  },
  {
   "cell_type": "markdown",
   "id": "b8c76c84-26e4-423b-a911-b9e15f489473",
   "metadata": {},
   "source": [
    "## 1.1. Collecter et Préparer les Données Brutes\n",
    "### 1. Charger les données dans un DataFrame Pandas"
   ]
  },
  {
   "cell_type": "code",
   "execution_count": 6,
   "id": "87fe645c-05eb-49c9-b628-382d2de57a32",
   "metadata": {},
   "outputs": [],
   "source": [
    "def init():\n",
    "    print('Initialisation du projet...', end='\\r')\n",
    "    filepath ='datas/openfoodfacts.csv'\n",
    "    target ='origins'\n",
    "    selected = ['countries_fr','origins_tags','nutrition_grade_fr']\n",
    "    data = pd.read_csv(f\"{filepath}\", sep=\"\\t\", encoding=\"utf-8\", on_bad_lines=\"skip\", low_memory=False)\n",
    "    print(' '*len('Initialisation du projet...'), end='\\r')\n",
    "    return filepath,target,selected, data"
   ]
  },
  {
   "cell_type": "code",
   "execution_count": 7,
   "id": "ecda7f8b-3f57-469d-b362-2a35eb08aee9",
   "metadata": {},
   "outputs": [],
   "source": [
    "def select_file():\n",
    "    print(\"charger le nouveau fichier\")\n",
    "    root =tk.Tk()\n",
    "    root.withdraw()\n",
    "\n",
    "    filepath = filedialog.askopenfilename(\n",
    "        title=\"Choisissez votre fichier csv\",\n",
    "        filetypes=((\"Fichiers CSV\",\"*.csv\"), (\"Tous les fichiers\",\"*.*\"))\n",
    "    )\n",
    "    print(' '*len(\"charger le nouveau fichier\"),end='\\r')\n",
    "    print(\"chargement en cours...\")\n",
    "    root.destroy()\n",
    "\n",
    "    if filepath:\n",
    "        try:\n",
    "            data = pd.read_csv(f\"{filepath}\", sep=\"\\t\", encoding=\"utf-8\", on_bad_lines=\"skip\", low_memory=False)\n",
    "            print(' '*len(\"chargement en cours...\"),end='\\r')\n",
    "            print(f\"Fichier chargé avec succès depuis le chemin: {filepath}\")\n",
    "            return data\n",
    "        except Exeption as e:\n",
    "            print(\"Erreur lors du chargement du fichier:\",e)\n",
    "    else:\n",
    "        print(\"Aucun fichier sélectionné.\")"
   ]
  },
  {
   "cell_type": "code",
   "execution_count": 8,
   "id": "98832b19-7f69-483d-8122-0df983096028",
   "metadata": {},
   "outputs": [
    {
     "name": "stdout",
     "output_type": "stream",
     "text": [
      "(320772, 162)              \n"
     ]
    }
   ],
   "source": [
    "filepath, target, selected, data = init()\n",
    "print(data.shape)"
   ]
  },
  {
   "cell_type": "markdown",
   "id": "ee4b2255-fdcf-44fc-a08e-49acf59b2a4e",
   "metadata": {},
   "source": [
    "Il s'agit d'un gros dataset de plus de 320 000 ligne et 160 colonnes"
   ]
  },
  {
   "cell_type": "code",
   "execution_count": 10,
   "id": "70458e3a-7258-4b92-afb1-4c2a0378f0e1",
   "metadata": {},
   "outputs": [
    {
     "name": "stdout",
     "output_type": "stream",
     "text": [
      "<class 'pandas.core.frame.DataFrame'>\n",
      "RangeIndex: 320772 entries, 0 to 320771\n",
      "Columns: 162 entries, code to water-hardness_100g\n",
      "dtypes: float64(106), object(56)\n",
      "memory usage: 396.5+ MB\n"
     ]
    }
   ],
   "source": [
    "info = data.info()"
   ]
  },
  {
   "cell_type": "code",
   "execution_count": 11,
   "id": "e2f6ede9-3a36-410e-bbe8-6b8cbe093778",
   "metadata": {},
   "outputs": [
    {
     "data": {
      "text/html": [
       "<div>\n",
       "<style scoped>\n",
       "    .dataframe tbody tr th:only-of-type {\n",
       "        vertical-align: middle;\n",
       "    }\n",
       "\n",
       "    .dataframe tbody tr th {\n",
       "        vertical-align: top;\n",
       "    }\n",
       "\n",
       "    .dataframe thead th {\n",
       "        text-align: right;\n",
       "    }\n",
       "</style>\n",
       "<table border=\"1\" class=\"dataframe\">\n",
       "  <thead>\n",
       "    <tr style=\"text-align: right;\">\n",
       "      <th></th>\n",
       "      <th>code</th>\n",
       "      <th>url</th>\n",
       "      <th>creator</th>\n",
       "      <th>created_t</th>\n",
       "      <th>created_datetime</th>\n",
       "      <th>last_modified_t</th>\n",
       "      <th>last_modified_datetime</th>\n",
       "      <th>product_name</th>\n",
       "      <th>generic_name</th>\n",
       "      <th>quantity</th>\n",
       "      <th>...</th>\n",
       "      <th>ph_100g</th>\n",
       "      <th>fruits-vegetables-nuts_100g</th>\n",
       "      <th>collagen-meat-protein-ratio_100g</th>\n",
       "      <th>cocoa_100g</th>\n",
       "      <th>chlorophyl_100g</th>\n",
       "      <th>carbon-footprint_100g</th>\n",
       "      <th>nutrition-score-fr_100g</th>\n",
       "      <th>nutrition-score-uk_100g</th>\n",
       "      <th>glycemic-index_100g</th>\n",
       "      <th>water-hardness_100g</th>\n",
       "    </tr>\n",
       "  </thead>\n",
       "  <tbody>\n",
       "    <tr>\n",
       "      <th>0</th>\n",
       "      <td>0000000003087</td>\n",
       "      <td>http://world-fr.openfoodfacts.org/produit/0000...</td>\n",
       "      <td>openfoodfacts-contributors</td>\n",
       "      <td>1474103866</td>\n",
       "      <td>2016-09-17T09:17:46Z</td>\n",
       "      <td>1474103893</td>\n",
       "      <td>2016-09-17T09:18:13Z</td>\n",
       "      <td>Farine de blé noir</td>\n",
       "      <td>NaN</td>\n",
       "      <td>1kg</td>\n",
       "      <td>...</td>\n",
       "      <td>NaN</td>\n",
       "      <td>NaN</td>\n",
       "      <td>NaN</td>\n",
       "      <td>NaN</td>\n",
       "      <td>NaN</td>\n",
       "      <td>NaN</td>\n",
       "      <td>NaN</td>\n",
       "      <td>NaN</td>\n",
       "      <td>NaN</td>\n",
       "      <td>NaN</td>\n",
       "    </tr>\n",
       "    <tr>\n",
       "      <th>1</th>\n",
       "      <td>0000000004530</td>\n",
       "      <td>http://world-fr.openfoodfacts.org/produit/0000...</td>\n",
       "      <td>usda-ndb-import</td>\n",
       "      <td>1489069957</td>\n",
       "      <td>2017-03-09T14:32:37Z</td>\n",
       "      <td>1489069957</td>\n",
       "      <td>2017-03-09T14:32:37Z</td>\n",
       "      <td>Banana Chips Sweetened (Whole)</td>\n",
       "      <td>NaN</td>\n",
       "      <td>NaN</td>\n",
       "      <td>...</td>\n",
       "      <td>NaN</td>\n",
       "      <td>NaN</td>\n",
       "      <td>NaN</td>\n",
       "      <td>NaN</td>\n",
       "      <td>NaN</td>\n",
       "      <td>NaN</td>\n",
       "      <td>14.0</td>\n",
       "      <td>14.0</td>\n",
       "      <td>NaN</td>\n",
       "      <td>NaN</td>\n",
       "    </tr>\n",
       "    <tr>\n",
       "      <th>2</th>\n",
       "      <td>0000000004559</td>\n",
       "      <td>http://world-fr.openfoodfacts.org/produit/0000...</td>\n",
       "      <td>usda-ndb-import</td>\n",
       "      <td>1489069957</td>\n",
       "      <td>2017-03-09T14:32:37Z</td>\n",
       "      <td>1489069957</td>\n",
       "      <td>2017-03-09T14:32:37Z</td>\n",
       "      <td>Peanuts</td>\n",
       "      <td>NaN</td>\n",
       "      <td>NaN</td>\n",
       "      <td>...</td>\n",
       "      <td>NaN</td>\n",
       "      <td>NaN</td>\n",
       "      <td>NaN</td>\n",
       "      <td>NaN</td>\n",
       "      <td>NaN</td>\n",
       "      <td>NaN</td>\n",
       "      <td>0.0</td>\n",
       "      <td>0.0</td>\n",
       "      <td>NaN</td>\n",
       "      <td>NaN</td>\n",
       "    </tr>\n",
       "    <tr>\n",
       "      <th>3</th>\n",
       "      <td>0000000016087</td>\n",
       "      <td>http://world-fr.openfoodfacts.org/produit/0000...</td>\n",
       "      <td>usda-ndb-import</td>\n",
       "      <td>1489055731</td>\n",
       "      <td>2017-03-09T10:35:31Z</td>\n",
       "      <td>1489055731</td>\n",
       "      <td>2017-03-09T10:35:31Z</td>\n",
       "      <td>Organic Salted Nut Mix</td>\n",
       "      <td>NaN</td>\n",
       "      <td>NaN</td>\n",
       "      <td>...</td>\n",
       "      <td>NaN</td>\n",
       "      <td>NaN</td>\n",
       "      <td>NaN</td>\n",
       "      <td>NaN</td>\n",
       "      <td>NaN</td>\n",
       "      <td>NaN</td>\n",
       "      <td>12.0</td>\n",
       "      <td>12.0</td>\n",
       "      <td>NaN</td>\n",
       "      <td>NaN</td>\n",
       "    </tr>\n",
       "    <tr>\n",
       "      <th>4</th>\n",
       "      <td>0000000016094</td>\n",
       "      <td>http://world-fr.openfoodfacts.org/produit/0000...</td>\n",
       "      <td>usda-ndb-import</td>\n",
       "      <td>1489055653</td>\n",
       "      <td>2017-03-09T10:34:13Z</td>\n",
       "      <td>1489055653</td>\n",
       "      <td>2017-03-09T10:34:13Z</td>\n",
       "      <td>Organic Polenta</td>\n",
       "      <td>NaN</td>\n",
       "      <td>NaN</td>\n",
       "      <td>...</td>\n",
       "      <td>NaN</td>\n",
       "      <td>NaN</td>\n",
       "      <td>NaN</td>\n",
       "      <td>NaN</td>\n",
       "      <td>NaN</td>\n",
       "      <td>NaN</td>\n",
       "      <td>NaN</td>\n",
       "      <td>NaN</td>\n",
       "      <td>NaN</td>\n",
       "      <td>NaN</td>\n",
       "    </tr>\n",
       "  </tbody>\n",
       "</table>\n",
       "<p>5 rows × 162 columns</p>\n",
       "</div>"
      ],
      "text/plain": [
       "            code                                                url  \\\n",
       "0  0000000003087  http://world-fr.openfoodfacts.org/produit/0000...   \n",
       "1  0000000004530  http://world-fr.openfoodfacts.org/produit/0000...   \n",
       "2  0000000004559  http://world-fr.openfoodfacts.org/produit/0000...   \n",
       "3  0000000016087  http://world-fr.openfoodfacts.org/produit/0000...   \n",
       "4  0000000016094  http://world-fr.openfoodfacts.org/produit/0000...   \n",
       "\n",
       "                      creator   created_t      created_datetime  \\\n",
       "0  openfoodfacts-contributors  1474103866  2016-09-17T09:17:46Z   \n",
       "1             usda-ndb-import  1489069957  2017-03-09T14:32:37Z   \n",
       "2             usda-ndb-import  1489069957  2017-03-09T14:32:37Z   \n",
       "3             usda-ndb-import  1489055731  2017-03-09T10:35:31Z   \n",
       "4             usda-ndb-import  1489055653  2017-03-09T10:34:13Z   \n",
       "\n",
       "  last_modified_t last_modified_datetime                    product_name  \\\n",
       "0      1474103893   2016-09-17T09:18:13Z              Farine de blé noir   \n",
       "1      1489069957   2017-03-09T14:32:37Z  Banana Chips Sweetened (Whole)   \n",
       "2      1489069957   2017-03-09T14:32:37Z                         Peanuts   \n",
       "3      1489055731   2017-03-09T10:35:31Z          Organic Salted Nut Mix   \n",
       "4      1489055653   2017-03-09T10:34:13Z                 Organic Polenta   \n",
       "\n",
       "  generic_name quantity  ... ph_100g fruits-vegetables-nuts_100g  \\\n",
       "0          NaN      1kg  ...     NaN                         NaN   \n",
       "1          NaN      NaN  ...     NaN                         NaN   \n",
       "2          NaN      NaN  ...     NaN                         NaN   \n",
       "3          NaN      NaN  ...     NaN                         NaN   \n",
       "4          NaN      NaN  ...     NaN                         NaN   \n",
       "\n",
       "  collagen-meat-protein-ratio_100g cocoa_100g chlorophyl_100g  \\\n",
       "0                              NaN        NaN             NaN   \n",
       "1                              NaN        NaN             NaN   \n",
       "2                              NaN        NaN             NaN   \n",
       "3                              NaN        NaN             NaN   \n",
       "4                              NaN        NaN             NaN   \n",
       "\n",
       "  carbon-footprint_100g nutrition-score-fr_100g nutrition-score-uk_100g  \\\n",
       "0                   NaN                     NaN                     NaN   \n",
       "1                   NaN                    14.0                    14.0   \n",
       "2                   NaN                     0.0                     0.0   \n",
       "3                   NaN                    12.0                    12.0   \n",
       "4                   NaN                     NaN                     NaN   \n",
       "\n",
       "  glycemic-index_100g water-hardness_100g  \n",
       "0                 NaN                 NaN  \n",
       "1                 NaN                 NaN  \n",
       "2                 NaN                 NaN  \n",
       "3                 NaN                 NaN  \n",
       "4                 NaN                 NaN  \n",
       "\n",
       "[5 rows x 162 columns]"
      ]
     },
     "execution_count": 11,
     "metadata": {},
     "output_type": "execute_result"
    }
   ],
   "source": [
    "data.head()"
   ]
  },
  {
   "cell_type": "markdown",
   "id": "6bdddb39-83f2-4ff6-a10a-0fc49597cd11",
   "metadata": {},
   "source": [
    "## 1.2. Identifier et Sélectionner les Features Pertinentes\n",
    "### 1.Lister les Features (Colonnes) :"
   ]
  },
  {
   "cell_type": "code",
   "execution_count": 13,
   "id": "b1610e43-60d2-4aeb-8535-4bd8a5119895",
   "metadata": {},
   "outputs": [],
   "source": [
    "def feature_list(data):\n",
    "    features = data.columns\n",
    "    print(f\"Total features:\", len(features))\n",
    "    print(f\"Features:\", features)\n"
   ]
  },
  {
   "cell_type": "code",
   "execution_count": 14,
   "id": "0447a4c2-11cb-483e-85bf-afcf20d9a587",
   "metadata": {},
   "outputs": [
    {
     "name": "stdout",
     "output_type": "stream",
     "text": [
      "Total features: 162\n",
      "Features: Index(['code', 'url', 'creator', 'created_t', 'created_datetime',\n",
      "       'last_modified_t', 'last_modified_datetime', 'product_name',\n",
      "       'generic_name', 'quantity',\n",
      "       ...\n",
      "       'ph_100g', 'fruits-vegetables-nuts_100g',\n",
      "       'collagen-meat-protein-ratio_100g', 'cocoa_100g', 'chlorophyl_100g',\n",
      "       'carbon-footprint_100g', 'nutrition-score-fr_100g',\n",
      "       'nutrition-score-uk_100g', 'glycemic-index_100g',\n",
      "       'water-hardness_100g'],\n",
      "      dtype='object', length=162)\n"
     ]
    }
   ],
   "source": [
    "feature_list(data)"
   ]
  },
  {
   "cell_type": "markdown",
   "id": "c2f91a4d-45c4-47db-b103-672c9a5fb26a",
   "metadata": {},
   "source": [
    "### 2.Séparer les Features Quantitatives et Qualitatives :"
   ]
  },
  {
   "cell_type": "code",
   "execution_count": 16,
   "id": "eb75e696-2627-44c3-bd98-b917de84a837",
   "metadata": {},
   "outputs": [
    {
     "ename": "NameError",
     "evalue": "name 'quantitative_features' is not defined",
     "output_type": "error",
     "traceback": [
      "\u001b[0;31m---------------------------------------------------------------------------\u001b[0m",
      "\u001b[0;31mNameError\u001b[0m                                 Traceback (most recent call last)",
      "Cell \u001b[0;32mIn[16], line 6\u001b[0m\n\u001b[1;32m      3\u001b[0m     qualitative_features \u001b[38;5;241m=\u001b[39m data\u001b[38;5;241m.\u001b[39mselect_dtypes(include\u001b[38;5;241m=\u001b[39m[\u001b[38;5;124m'\u001b[39m\u001b[38;5;124mobject\u001b[39m\u001b[38;5;124m'\u001b[39m])\n\u001b[1;32m      4\u001b[0m     \u001b[38;5;28;01mreturn\u001b[39;00m quantitative_features,qualitative_features\n\u001b[0;32m----> 6\u001b[0m \u001b[38;5;28mprint\u001b[39m(\u001b[38;5;124m'\u001b[39m\u001b[38;5;124mQuantitative Features\u001b[39m\u001b[38;5;130;01m\\n\u001b[39;00m\u001b[38;5;124m'\u001b[39m,\u001b[43mquantitative_features\u001b[49m\u001b[38;5;241m.\u001b[39mcolumns )\n\u001b[1;32m      7\u001b[0m \u001b[38;5;28mprint\u001b[39m(\u001b[38;5;124m'\u001b[39m\u001b[38;5;124mQualitative Features\u001b[39m\u001b[38;5;130;01m\\n\u001b[39;00m\u001b[38;5;124m'\u001b[39m,qualitative_features\u001b[38;5;241m.\u001b[39mcolumns )\n",
      "\u001b[0;31mNameError\u001b[0m: name 'quantitative_features' is not defined"
     ]
    }
   ],
   "source": [
    "def split_features(data):\n",
    "    quantitative_features = data.select_dtypes(include=['float64','int64'])\n",
    "    qualitative_features = data.select_dtypes(include=['object'])\n",
    "    return quantitative_features,qualitative_features\n",
    "\n",
    "# print('Quantitative Features\\n',quantitative_features.columns )\n",
    "# print('Qualitative Features\\n',qualitative_features.columns )"
   ]
  },
  {
   "cell_type": "markdown",
   "id": "b87497c5-b682-4ac5-9dd3-0fdf1873573f",
   "metadata": {},
   "source": [
    "## 1.3. Choisir une Cible"
   ]
  },
  {
   "cell_type": "markdown",
   "id": "7594a68c-e67d-431b-86f2-2bcaeaf8d7f5",
   "metadata": {},
   "source": [
    "### 1.Choisir une Feature Cible avec Moins de 50% de Valeurs Présentes :"
   ]
  },
  {
   "cell_type": "code",
   "execution_count": null,
   "id": "841a7a73-e128-452c-843c-330de5bdf17f",
   "metadata": {
    "scrolled": true
   },
   "outputs": [],
   "source": [
    "def target_choice(qualitative_features):\n",
    "    # Calcule le pourcentage de valeurs manquantes pour chaque colonne\n",
    "    missing_percentages = data.isnull().mean() *100\n",
    "    #Filtrer les features ayant moins de 50% de valeurs manquantes.\n",
    "    features_with_less_than_50_missing = missing_percentages[missing_percentages > 50].index\n",
    "    potential_targets = [feature for feature in qualitative_features if feature in features_with_less_than_50_missing]\n",
    "\n",
    "    print(f'{len(potential_targets)} cibles potentiels / {len(qualitative_features.columns)} features. \\nSelectionner votre cible dans la liste suivantes :')\n",
    "    for index, feature in enumerate(potential_targets):\n",
    "        #num_unique_item = data[feature].nunique()\n",
    "        nb_fill_each_value= data[feature].count()\n",
    "        val_null= data[feature].isna().sum()\n",
    "        percentage_fill_each_value = (nb_fill_each_value / len(qualitative_features) * 100).round(2)\n",
    "        print(f\"{index+1}: {feature}: {percentage_fill_each_value}% des valeurs présentes soit {nb_fill_each_value} valeurs\")\n",
    "        #print(f\"{index+1}: {feature}: {num_unique_item} valeurs unique / Pourcentage de valeurs présentes: {percentage_fill_each_value}%\")\n",
    "    try:\n",
    "        selected_index = int(input('Entrer l\\'index de votre cible:'))\n",
    "        target = potential_targets[selected_index-1]\n",
    "        print(\"Feature cible selectionnée:\", target)\n",
    "    except IndexError:\n",
    "        print(\"Invalid index. Please restart the selection process.\")\n",
    "    except ValueError:\n",
    "        print(\"Invalid input. Please enter a numeric index.\")\n",
    "    return target"
   ]
  },
  {
   "cell_type": "code",
   "execution_count": null,
   "id": "78d2257a-d16d-419b-bdb8-ebdf05bbbb49",
   "metadata": {
    "scrolled": true
   },
   "outputs": [],
   "source": [
    "#result=data[target].dropna().unique()\n",
    "#df_result=pd.DataFrame(result, columns=[target])\n",
    "#print(f'Détail de notre features cibles: {target}')\n",
    "#df_result"
   ]
  },
  {
   "cell_type": "markdown",
   "id": "4bbe2a55-7fb6-4ce3-aef3-572de5a673c7",
   "metadata": {},
   "source": [
    "### Supprimer les Lignes (Produits) Sans Valeur Cible :\n"
   ]
  },
  {
   "cell_type": "code",
   "execution_count": null,
   "id": "32c5c5b9-a39d-4ec1-987d-c62846f6d29e",
   "metadata": {},
   "outputs": [],
   "source": [
    "data[target].isna().sum()"
   ]
  },
  {
   "cell_type": "code",
   "execution_count": null,
   "id": "601657a6-6331-42cc-bd95-09d56d0682c4",
   "metadata": {},
   "outputs": [],
   "source": [
    "def clean_row_without_target(data,target):\n",
    "    data_nan = data[data[target].isna()]\n",
    "    data_cleaned = data.dropna(subset=[target])\n",
    "    result = data_cleaned.shape\n",
    "    return data_cleaned\n",
    "#data_nan.shape"
   ]
  },
  {
   "cell_type": "markdown",
   "id": "0b1f174b-cd5a-40d7-8e47-02425e8cfcf5",
   "metadata": {},
   "source": [
    "### 3.Séparer la Cible du Reste du Dataset :\n"
   ]
  },
  {
   "cell_type": "code",
   "execution_count": null,
   "id": "af2f59f7-b8c3-4a52-b51b-d841e125dc53",
   "metadata": {},
   "outputs": [],
   "source": [
    "def split_dataset_from_target(data_cleaned,target):\n",
    "    df_without_target = data_cleaned.drop(columns=[target])\n",
    "    df_with_target=data_cleaned[target]\n",
    "    return df_without_target"
   ]
  },
  {
   "cell_type": "markdown",
   "id": "00d85cf1-768c-4532-aec6-b4190907a9f8",
   "metadata": {},
   "source": [
    "## 1.4. Afficher les Taux de Remplissage des Features"
   ]
  },
  {
   "cell_type": "code",
   "execution_count": null,
   "id": "01b6e4ef-9123-4f0e-b2e7-201a16b2fe84",
   "metadata": {
    "scrolled": true
   },
   "outputs": [],
   "source": [
    "def filling_rate_display(data_cleaned,df_without_target):\n",
    "    filling_rates = data_cleaned.notnull().mean()*100\n",
    "    sorted_value=df_without_target.count().sort_values(ascending=True)\n",
    "    sorted_df =df_without_target[sorted_value.index]\n",
    "    msno.bar(sorted_df)"
   ]
  },
  {
   "cell_type": "markdown",
   "id": "20488e15-be2f-40f7-b953-5064ddb630d1",
   "metadata": {},
   "source": [
    "## 1.5. Sélectionner des Features Intéressantes"
   ]
  },
  {
   "cell_type": "markdown",
   "id": "acff217a-6f84-4964-9223-e248892402b7",
   "metadata": {},
   "source": [
    "### Sélectionner les Features avec Plus de 50% de Valeurs Présentes :"
   ]
  },
  {
   "cell_type": "code",
   "execution_count": null,
   "id": "6d3301f9-8761-484a-b4c5-e75e668e3d42",
   "metadata": {},
   "outputs": [],
   "source": [
    "def select_features_with_more_than_50(df_without_target):\n",
    "    df_without_target=df_without_target.notnull().mean()*100\n",
    "    selected_features = df_without_target[df_without_target>50].index\n",
    "    selected_features = pd.DataFrame(selected_features,columns=['Features'])\n",
    "    print('Feature ayant plus de 50% de valeurs que vous pouvez selectionner:\\n ')\n",
    "    for index ,row in selected_features.iterrows():\n",
    "        print(f'{index+1} : {row[\"Features\"]}')\n",
    "    return selected_features\n",
    "#selected_features.columns=['Features']"
   ]
  },
  {
   "cell_type": "code",
   "execution_count": null,
   "id": "afed913b-fbc5-454e-8abe-eba0e43b2d8b",
   "metadata": {},
   "outputs": [],
   "source": [
    "def features_selection(selected,selected_features):\n",
    "    nb_element = int(input('Combien de feature voulez-vous utiliser (recommandé 3)'))\n",
    "    print(f'Selectionnez 1 à {nb_element} éléments:\\n')\n",
    "    #first_element = input(f'Entrez le numéro de votre premier choix pour terminer:')\n",
    "    #first_element = selected_features.iloc(first_element)\n",
    "    old_selected = selected\n",
    "    selected = [] # Pour stocker les features choisis\n",
    "    while len(selected) < nb_element:\n",
    "        if len(selected)<nb_element:\n",
    "            choice_index= input(f\"Entrez le numéro de votre choix numéro {len(selected)+1} ou tapez fin pour garder le choix initial\")\n",
    "            if choice_index.lower()=='fin':\n",
    "                if len(selected)==0:\n",
    "                    selected = old_selected\n",
    "                else:\n",
    "                    return selected\n",
    "            else:\n",
    "                try:\n",
    "                    choice_index= int(choice_index)-1\n",
    "                    if 0<= choice_index <len(selected_features):\n",
    "                        feature = selected_features.iloc[choice_index]['Features']\n",
    "                        if feature not in selected:\n",
    "                            selected.append(feature)\n",
    "                            print(f'Vous avez selectionné {feature}')\n",
    "                            print(f'Features selectionnées:{selected}')\n",
    "                        else:\n",
    "                            print(\"Vous avez déjà sélectionné cette feature. Veuillez choisir une autre.\")\n",
    "                    else:\n",
    "                        print('Numéro de choix invalide, veuillez entrer un numéro valide.')\n",
    "                except ValueError:\n",
    "                    print(\"Entrée invalide, veuillez entrer un numéro entier.\")\n",
    "    return selected"
   ]
  },
  {
   "cell_type": "code",
   "execution_count": null,
   "id": "909664b7-475f-4db3-be7f-d50268b0c02f",
   "metadata": {},
   "outputs": [],
   "source": [
    "def clean_duplicate(data_cleaned):\n",
    "    data_cleaned = data_cleaned.drop_duplicates(subset=['code'])\n",
    "    return data_cleaned"
   ]
  },
  {
   "cell_type": "code",
   "execution_count": null,
   "id": "4e605a0e-12c2-418e-a587-52e4bed1f9ca",
   "metadata": {},
   "outputs": [],
   "source": [
    "filepath,target,selected, data=init() #initialisation du fichier local avec la première selection de paramètres\n",
    "print('Paramètre par défaut:\\n')\n",
    "print(f'chemin du fichier:\\n --> {filepath}\\n')\n",
    "print(f'Cible de l\\'analyse:\\n --> {target}\\n')\n",
    "print(f'Features de l\\'analyse:\\n --> {selected}\\n')\n",
    "default_params=input('Souhaitez-vous changer les paramètres par défault?\\n Oui / Non')\n",
    "\n",
    "if default_params.lower() == \"oui\":\n",
    "    \n",
    "    filepath_params=input('Souhaitez-vous changer de fichier?\\n Oui / Non')\n",
    "    \n",
    "    if filepath_params.lower()=='oui': # Change le fichier de jeu de données\n",
    "        data = select_file()  #Fonction de selection du nouveau fichier\n",
    "        feature_list(data) # Liste des colonnes avec le nouveau ficher\n",
    "        quantitative_features, qualitative_features = split_features(data) #Features avec le nouveau ficher\n",
    "    \n",
    "    target_params=input(f'Souhaitez-vous changer la cible d\\'analye? {target}\\n Oui / Non')\n",
    "    if target_params.lower()=='oui':\n",
    "        target = target_choice(qualitative_features) # Change la cible d'analyse\n",
    "        data_cleaned = clean_row_without_target(data,target) # Supprime les ligne n'ayant pas de cible\n",
    "        df_without_target = split_dataset_from_target(data_cleaned,target) #sépare et recupère un dataframe sans la colonne cible\n",
    "        filling_rate_display(data_cleaned,df_without_target) #Taux de rempissage\n",
    "        select_features_with_more_than_50(df_without_target)\n",
    "    \n",
    "    print(f\"cible d'analyse: {target}\")\n",
    "    \n",
    "    \n",
    "    selected_params=input(f'Souhaitez-vous changer de Features? actuellement {selected}\\n Oui / Non')\n",
    "    if selected_params.lower()=='oui':\n",
    "        data_cleaned = clean_row_without_target(data,target) # Supprime les ligne n'ayant pas de cible\n",
    "        df_without_target = split_dataset_from_target(data_cleaned,target) #sépare et recupère un dataframe sans la colonne cible\n",
    "        filling_rate_display(data_cleaned,df_without_target) # Affiche taux de remplissage\n",
    "        selected_features=select_features_with_more_than_50(df_without_target)\n",
    "        selected =features_selection(selected,selected_features)\n",
    "        print(f'Nouvelles Features selectionnées:{selected}')\n",
    "    \n",
    "else:\n",
    "    feature_list(data)\n",
    "    quantitative_features, qualitative_features = split_features(data)\n",
    "    #print(f'split-----> {qualitative_features}')\n",
    "    #target_choice(qualitative_features)\n",
    "    data_cleaned = clean_row_without_target(data,target)\n",
    "    df_without_target = split_dataset_from_target(data_cleaned,target)\n",
    "    filling_rate_display(data_cleaned,df_without_target)\n",
    "    #def cleanAndFilterProductFeatures:\n",
    "\n",
    "\n",
    "data_clean_duplicate=clean_duplicate(data_cleaned)\n",
    "\n",
    "columns_to_keep = ['code','product_name','url'] + [target] + selected\n",
    "\n",
    "# renamed_columns = {col:f'Features_{col}' for col in selected}\n",
    "# renamed_columns[target] = f'target_{target}'\n",
    "\n",
    "data_filtered = data_clean_duplicate[columns_to_keep]\n",
    "# data_filtered = data_filtered.rename(columns=renamed_columns)\n",
    "data_filtered"
   ]
  },
  {
   "cell_type": "code",
   "execution_count": null,
   "id": "623fc976-5c6b-455a-b5a9-e57fc8ff00e7",
   "metadata": {},
   "outputs": [],
   "source": [
    "data_filtered.shape"
   ]
  },
  {
   "cell_type": "markdown",
   "id": "de4b3509-2d39-4d5f-a327-d9e992cebf1f",
   "metadata": {},
   "source": [
    "# Identifier et traitez les valeurs aberrantes"
   ]
  },
  {
   "cell_type": "markdown",
   "id": "c1b06e91-6db5-49d6-8951-09c9d41cac9f",
   "metadata": {},
   "source": [
    "## 1.1. Collecter et Préparer les Données Brutes\n",
    "### 1. Charger les données dans un DataFrame Pandas\n"
   ]
  },
  {
   "cell_type": "code",
   "execution_count": null,
   "id": "251b9dde-9850-42ae-83e3-2a13618f1959",
   "metadata": {},
   "outputs": [],
   "source": [
    "print(target)\n",
    "print(data_filtered.columns)"
   ]
  },
  {
   "cell_type": "code",
   "execution_count": null,
   "id": "853fd9d9-b9aa-4277-ac4a-33d3d7ec67c0",
   "metadata": {},
   "outputs": [],
   "source": [
    "data_filtered"
   ]
  },
  {
   "cell_type": "code",
   "execution_count": null,
   "id": "c6c7bb7b-8739-4966-90d5-0f59098fd57c",
   "metadata": {},
   "outputs": [],
   "source": [
    "import matplotlib.font_manager as fm\n",
    "\n",
    "# plt.rcParams['font.family'] = ['DejaVu Sans', 'Noto Sans CJK JP']\n",
    "\n",
    "# fm.findSystemFonts(fontpaths=None,fontext='ttf')\n",
    "# # Spécifiez le chemin vers le fichier de police installé\n",
    "font_paths = [\n",
    "    '/Users/yann/FromNas/Training/IA Engineer/P3_santePublique/dejavu-fonts-ttf-2.37/ttf/DejaVuSans.ttf',  # DejaVu Sans\n",
    "    '/Users/yann/Library/Fonts/NotoSansCJK.ttc',  # Noto Sans CJK pour les caractères chinois, japonais et coréens\n",
    "    '/Users/yann/Library/Fonts/NotoSansThai-VariableFont_wdth,wght.ttf'\n",
    "]\n",
    "font_props = [fm.FontProperties(fname=font_path) for font_path in font_paths]\n",
    "plt.rcParams['font.family'] = [fp.get_name() for fp in font_props]\n",
    "def clean_text(text):\n",
    "    return ''.join([char if ord(char)>=32 else '' for char in text])\n",
    "\n",
    "\n",
    "# # Afficher le nom de la police reconnue par Matplotlib\n",
    "# print(\"Nom de la police :\", font_prop.get_name())\n",
    "# plt.rcParams['font.family'] = font_prop.get_name()"
   ]
  },
  {
   "cell_type": "code",
   "execution_count": null,
   "id": "3788566c-5fc1-4733-b513-022b96520a3c",
   "metadata": {},
   "outputs": [],
   "source": [
    "# quantitative_features, qualitative_features = split_features(data)\n",
    "\n",
    "# quantitative_features"
   ]
  },
  {
   "cell_type": "code",
   "execution_count": null,
   "id": "da75d59a-2e86-44d4-a42a-2635cdfed244",
   "metadata": {},
   "outputs": [],
   "source": [
    "# data_filtered_cleaned = data_filtered.map(lambda x: clean_text(x) if isinstance(x, str) else x)\n",
    "quantitative_features, qualitative_features = split_features(data_filtered)\n",
    "threshold = 10\n",
    "\n",
    "value_counts_target = data_filtered[target].value_counts()\n",
    "to_keep = value_counts_target[value_counts_target>threshold].index\n",
    "data_filtered.loc[:,f'{target}_simplified']=data_filtered[target].apply(lambda x:x if x in to_keep else 'Autres')\n",
    "\n",
    "\n",
    "for feat in selected:\n",
    "    \n",
    "    if feat in qualitative_features.columns:\n",
    "        value_counts = data_filtered[feat].value_counts()\n",
    "        to_keep = value_counts[value_counts>threshold].index\n",
    "        data_filtered.loc[:,f'{feat}_simplified']=data_filtered[feat].apply(lambda x:x if x in to_keep else 'Autres')\n",
    "        # print(f'{feat} is in')\n",
    "        plt.figure(figsize=(20, 6))\n",
    "        sns.countplot(x=f'{feat}_simplified', data=data_filtered)\n",
    "        plt.title(f'Distribution of {feat}')\n",
    "        plt.xticks(rotation=90, fontsize=8)\n",
    "        plt.show()\n",
    "        # plt.tight_layout()\n",
    "    else:\n",
    "        plt.figure(figsize=(20, 6))\n",
    "        sns.scatterplot( y=feat, x=f'{target}_simplified', data=data_filtered)\n",
    "        plt.title(f'Distribution of {target}_simplified vs {feat}')\n",
    "        plt.xticks(rotation=90, fontsize=6)\n",
    "        plt.show()"
   ]
  },
  {
   "cell_type": "code",
   "execution_count": null,
   "id": "7513e997-590c-4eb4-815e-42497633d413",
   "metadata": {},
   "outputs": [],
   "source": [
    "result=data_filtered['product_name'].nunique()\n",
    "result"
   ]
  },
  {
   "cell_type": "code",
   "execution_count": null,
   "id": "85c48acc-cacd-4f4d-9fcf-d48302d6031d",
   "metadata": {},
   "outputs": [],
   "source": [
    "r= data_filtered['origins_tags'].unique()"
   ]
  },
  {
   "cell_type": "code",
   "execution_count": null,
   "id": "c1dbe29b-b108-4a9f-887b-4ca4b1c4d990",
   "metadata": {},
   "outputs": [],
   "source": []
  }
 ],
 "metadata": {
  "kernelspec": {
   "display_name": "Python (P3_env)",
   "language": "python",
   "name": "p3_env"
  },
  "language_info": {
   "codemirror_mode": {
    "name": "ipython",
    "version": 3
   },
   "file_extension": ".py",
   "mimetype": "text/x-python",
   "name": "python",
   "nbconvert_exporter": "python",
   "pygments_lexer": "ipython3",
   "version": "3.11.7"
  }
 },
 "nbformat": 4,
 "nbformat_minor": 5
}
