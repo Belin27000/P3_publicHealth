{
 "cells": [
  {
   "cell_type": "markdown",
   "id": "6ee10346-955f-4247-8263-7414ca8277ec",
   "metadata": {},
   "source": [
    "## The Data\n",
    "This is a dataset of food products listing the ingredients and nutritional facts of more than 300,000 foods from over 150 countries in the world. The data is meant to be free to the public to help users decode food labels, and make better food choices in general. The dataset contains more than 300,000 rows over 163 columns. However, as we will see there are a lot of missing or obviously incorrect values.<br/>\n",
    "Generalities:\n",
    "\n",
    "- fields that end with _t are dates in the UNIX timestamp format (number of seconds since Jan 1st 1970)\n",
    "- fields that end with _datetime are dates in the iso8601 format: yyyy-mm-ddThh:mn:ssZ\n",
    "- fields that end with _tags are comma separated list of tags (e.g. categories_tags is the set of normalized tags computer from the categories field)\n",
    "- fields that end with a language 2 letter code (e.g. fr for French) is the set of tags in that language\n",
    "- fields that end with _100g correspond to the amount of a nutriment (in g, or kJ for energy) for 100 g or 100 ml of product\n",
    "- fields that end with _serving correspond to the amount of a nutriment (in g, or kJ for energy) for 1 serving of the product\n"
   ]
  },
  {
   "cell_type": "markdown",
   "id": "c66acc3a-1a75-4097-93da-d61bb0fc68a5",
   "metadata": {},
   "source": [
    "# Nettoyer et Filtrer les Features et Produits\n",
    "## 1.1. Collecter et Préparer les Données Brutes\n",
    "### 1. Charger les données dans un DataFrame Pandas\n"
   ]
  },
  {
   "cell_type": "code",
   "execution_count": null,
   "id": "afd46565-a214-41c9-a2bb-dd76d592c2ca",
   "metadata": {},
   "outputs": [],
   "source": [
    "import tkinter as tk\n",
    "from tkinter import filedialog\n",
    "import numpy as np\n",
    "import pandas as pd\n",
    "\n",
    "import missingno as msno"
   ]
  },
  {
   "cell_type": "markdown",
   "id": "b8c76c84-26e4-423b-a911-b9e15f489473",
   "metadata": {},
   "source": [
    "## 1.1. Collecter et Préparer les Données Brutes\n",
    "### 1. Charger les données dans un DataFrame Pandas"
   ]
  },
  {
   "cell_type": "code",
   "execution_count": null,
   "id": "87fe645c-05eb-49c9-b628-382d2de57a32",
   "metadata": {},
   "outputs": [],
   "source": [
    "def init():\n",
    "    print('Initialisation du projet...')\n",
    "    filepath ='datas/openfoodfacts.csv'\n",
    "    target ='origins'\n",
    "    selected = ['pnns_groups_1','pnns_groups_2','nutrition_grade_fr']\n",
    "    data = pd.read_csv(f\"{filepath}\", sep=\"\\t\", encoding=\"utf-8\", on_bad_lines=\"skip\", low_memory=False)\n",
    "    return filepath,target,selected"
   ]
  },
  {
   "cell_type": "code",
   "execution_count": null,
   "id": "ecda7f8b-3f57-469d-b362-2a35eb08aee9",
   "metadata": {},
   "outputs": [],
   "source": [
    "def select_file():\n",
    "    print(\"charger le nouveau fichier\")\n",
    "    root =tk.Tk()\n",
    "    root.withdraw()\n",
    "\n",
    "    filepath = filedialog.askopenfilename(\n",
    "        title=\"Choisissez votre fichier csv\",\n",
    "        filetypes=((\"Fichiers CSV\",\"*.csv\"), (\"Tous les fichiers\",\"*.*\"))\n",
    "    )\n",
    "    print(\"chargement en cours...\")\n",
    "    root.destroy()\n",
    "\n",
    "    if filepath:\n",
    "        try:\n",
    "            data = pd.read_csv(f\"{filepath}\", sep=\"\\t\", encoding=\"utf-8\", on_bad_lines=\"skip\", low_memory=False)\n",
    "            print(f\"Fichier chargé avec succès depuis le chemin: {filepath}\")\n",
    "            return data\n",
    "        except Exeption as e:\n",
    "            print(\"Erreur lors du chargement du fichier:\",e)\n",
    "    else:\n",
    "        print(\"Aucun fichier sélectionné.\")"
   ]
  },
  {
   "cell_type": "code",
   "execution_count": null,
   "id": "98832b19-7f69-483d-8122-0df983096028",
   "metadata": {},
   "outputs": [],
   "source": [
    "data.shape"
   ]
  },
  {
   "cell_type": "markdown",
   "id": "ee4b2255-fdcf-44fc-a08e-49acf59b2a4e",
   "metadata": {},
   "source": [
    "Il s'agit d'un gros dataset de plus de 320 000 ligne et 160 colonnes"
   ]
  },
  {
   "cell_type": "code",
   "execution_count": null,
   "id": "70458e3a-7258-4b92-afb1-4c2a0378f0e1",
   "metadata": {},
   "outputs": [],
   "source": [
    "info = data.info()"
   ]
  },
  {
   "cell_type": "code",
   "execution_count": null,
   "id": "e2f6ede9-3a36-410e-bbe8-6b8cbe093778",
   "metadata": {},
   "outputs": [],
   "source": [
    "data.head()"
   ]
  },
  {
   "cell_type": "markdown",
   "id": "6bdddb39-83f2-4ff6-a10a-0fc49597cd11",
   "metadata": {},
   "source": [
    "## 1.2. Identifier et Sélectionner les Features Pertinentes\n",
    "### 1.Lister les Features (Colonnes) :"
   ]
  },
  {
   "cell_type": "code",
   "execution_count": null,
   "id": "b1610e43-60d2-4aeb-8535-4bd8a5119895",
   "metadata": {},
   "outputs": [],
   "source": [
    "def feature_list(data):\n",
    "    features = data.columns\n",
    "    print(f\"Total features:\", len(features))\n",
    "    print(f\"Features:\", features)\n"
   ]
  },
  {
   "cell_type": "markdown",
   "id": "c2f91a4d-45c4-47db-b103-672c9a5fb26a",
   "metadata": {},
   "source": [
    "### 2.Séparer les Features Quantitatives et Qualitatives :"
   ]
  },
  {
   "cell_type": "code",
   "execution_count": null,
   "id": "eb75e696-2627-44c3-bd98-b917de84a837",
   "metadata": {},
   "outputs": [],
   "source": [
    "def split_features(data):\n",
    "    quantitative_features = data.select_dtypes(include=['float64','int64'])\n",
    "    qualitative_features = data.select_dtypes(include=['object'])\n",
    "    return quantitative_features,qualitative_features\n",
    "\n",
    "print('Quantitative Features\\n',quantitative_features.columns )\n",
    "print('Qualitative Features\\n',qualitative_features.columns )"
   ]
  },
  {
   "cell_type": "markdown",
   "id": "b87497c5-b682-4ac5-9dd3-0fdf1873573f",
   "metadata": {},
   "source": [
    "## 1.3. Choisir une Cible"
   ]
  },
  {
   "cell_type": "markdown",
   "id": "7594a68c-e67d-431b-86f2-2bcaeaf8d7f5",
   "metadata": {},
   "source": [
    "### 1.Choisir une Feature Cible avec Moins de 50% de Valeurs Présentes :"
   ]
  },
  {
   "cell_type": "code",
   "execution_count": null,
   "id": "841a7a73-e128-452c-843c-330de5bdf17f",
   "metadata": {
    "scrolled": true
   },
   "outputs": [],
   "source": [
    "def target_choice(qualitative_features):\n",
    "    # Calcule le pourcentage de valeurs manquantes pour chaque colonne\n",
    "    missing_percentages = data.isnull().mean() *100\n",
    "    #Filtrer les features ayant moins de 50% de valeurs manquantes.\n",
    "    features_with_less_than_50_missing = missing_percentages[missing_percentages > 50].index\n",
    "    potential_targets = [feature for feature in qualitative_features if feature in features_with_less_than_50_missing]\n",
    "\n",
    "    print(f'{len(potential_targets)} cibles potentiels / {len(qualitative_features.columns)} features. \\nSelectionner votre cible dans la liste suivantes :')\n",
    "    for index, feature in enumerate(potential_targets):\n",
    "        #num_unique_item = data[feature].nunique()\n",
    "        nb_fill_each_value= data[feature].count()\n",
    "        val_null= data[feature].isna().sum()\n",
    "        percentage_fill_each_value = (nb_fill_each_value / len(qualitative_features) * 100).round(2)\n",
    "        print(f\"{index+1}: {feature}: {percentage_fill_each_value}% des valeurs présentes soit {nb_fill_each_value} valeurs\")\n",
    "        #print(f\"{index+1}: {feature}: {num_unique_item} valeurs unique / Pourcentage de valeurs présentes: {percentage_fill_each_value}%\")\n",
    "    try:\n",
    "        selected_index = int(input('Entrer l\\'index de votre cible:'))\n",
    "        target = potential_targets[selected_index-1]\n",
    "        print(\"Feature cible selectionnée:\", target)\n",
    "    except IndexError:\n",
    "        print(\"Invalid index. Please restart the selection process.\")\n",
    "    except ValueError:\n",
    "        print(\"Invalid input. Please enter a numeric index.\")\n",
    "    return target"
   ]
  },
  {
   "cell_type": "code",
   "execution_count": null,
   "id": "4e605a0e-12c2-418e-a587-52e4bed1f9ca",
   "metadata": {},
   "outputs": [],
   "source": [
    "filepath,target,selected=init() #initialisation du fichier local avec la première selection de paramètres\n",
    "print('Paramètre par défaut:\\n')\n",
    "print(f'chemin du fichier:\\n --> {filepath}\\n')\n",
    "print(f'Cible de l\\'analyse:\\n --> {target}\\n')\n",
    "print(f'Features de l\\'analyse:\\n --> {selected}\\n')\n",
    "default_params=input('Souhaitez-vous changer les paramètres par défault?\\n Oui / Non')\n",
    "\n",
    "if default_params.lower() == \"oui\":\n",
    "    \n",
    "    filepath_params=input('Souhaitez-vous changer de fichier?\\n Oui / Non')\n",
    "    if filepath_params.lower()=='oui':\n",
    "        data = select_file()  \n",
    "        feature_list(data)\n",
    "        quantitative_features, qualitative_features = split_features(data)\n",
    "    \n",
    "    target_params=input(f'Souhaitez-vous changer la cible d\\'analye? {target}\\n Oui / Non')\n",
    "    if target_params.lower()=='oui':\n",
    "        target = target_choice(qualitative_features)\n",
    "        filling_rate_display(data_cleaned,df_without_target)\n",
    "        select_features_with_more_than_50(df_without_target)\n",
    "    print(f\"cible d'analyse: {target}\")\n",
    "    data_clean = clean_row_without_target(data,target)\n",
    "    df_without_target = split_dataset_from_target(data_cleaned,target)\n",
    "    filling_rate_display(data_cleaned,df_without_target)\n",
    "    \n",
    "    selected_params=input(f'Souhaitez-vous changer de Features? actuellement {selected}\\n Oui / Non')\n",
    "    if selected_params.lower()=='oui':\n",
    "        selected_features=select_features_with_more_than_50(df_without_target)\n",
    "        selected =features_selection(selected,selected_features)\n",
    "        print(f'Nouvelles Features selectionnées:{selected}')\n",
    "    \n",
    "else:\n",
    "    feature_list(data)\n",
    "    quantitative_features, qualitative_features = split_features(data)\n",
    "    #print(f'split-----> {qualitative_features}')\n",
    "    #target_choice(qualitative_features)\n",
    "    data_clean = clean_row_without_target(data,target)\n",
    "    df_without_target = split_dataset_from_target(data_cleaned,target)\n",
    "    filling_rate_display(data_cleaned,df_without_target)\n",
    "    #def cleanAndFilterProductFeatures:\n"
   ]
  },
  {
   "cell_type": "code",
   "execution_count": null,
   "id": "78d2257a-d16d-419b-bdb8-ebdf05bbbb49",
   "metadata": {
    "scrolled": true
   },
   "outputs": [],
   "source": [
    "#result=data[target].dropna().unique()\n",
    "#df_result=pd.DataFrame(result, columns=[target])\n",
    "#print(f'Détail de notre features cibles: {target}')\n",
    "#df_result"
   ]
  },
  {
   "cell_type": "markdown",
   "id": "4bbe2a55-7fb6-4ce3-aef3-572de5a673c7",
   "metadata": {},
   "source": [
    "### Supprimer les Lignes (Produits) Sans Valeur Cible :\n"
   ]
  },
  {
   "cell_type": "code",
   "execution_count": null,
   "id": "32c5c5b9-a39d-4ec1-987d-c62846f6d29e",
   "metadata": {},
   "outputs": [],
   "source": [
    "data[target].isna().sum()"
   ]
  },
  {
   "cell_type": "code",
   "execution_count": null,
   "id": "601657a6-6331-42cc-bd95-09d56d0682c4",
   "metadata": {},
   "outputs": [],
   "source": [
    "def clean_row_without_target(data,target):\n",
    "    data_nan = data[data[target].isna()]\n",
    "    data_cleaned = data.dropna(subset=[target])\n",
    "    result = data_cleaned.shape\n",
    "    return data_cleaned\n",
    "#data_nan.shape"
   ]
  },
  {
   "cell_type": "markdown",
   "id": "0b1f174b-cd5a-40d7-8e47-02425e8cfcf5",
   "metadata": {},
   "source": [
    "### 3.Séparer la Cible du Reste du Dataset :\n"
   ]
  },
  {
   "cell_type": "code",
   "execution_count": null,
   "id": "af2f59f7-b8c3-4a52-b51b-d841e125dc53",
   "metadata": {},
   "outputs": [],
   "source": [
    "def split_dataset_from_target(data_cleaned,target):\n",
    "    df_without_target = data_cleaned.drop(columns=[target])\n",
    "    df_with_target=data_cleaned[target]\n",
    "    return df_without_target"
   ]
  },
  {
   "cell_type": "markdown",
   "id": "00d85cf1-768c-4532-aec6-b4190907a9f8",
   "metadata": {},
   "source": [
    "## 1.4. Afficher les Taux de Remplissage des Features"
   ]
  },
  {
   "cell_type": "code",
   "execution_count": null,
   "id": "01b6e4ef-9123-4f0e-b2e7-201a16b2fe84",
   "metadata": {
    "scrolled": true
   },
   "outputs": [],
   "source": [
    "def filling_rate_display(data_cleaned,df_without_target):\n",
    "    filling_rates = data_cleaned.notnull().mean()*100\n",
    "    sorted_value=df_without_target.count().sort_values(ascending=True)\n",
    "    sorted_df =df_without_target[sorted_value.index]\n",
    "    msno.bar(sorted_df)"
   ]
  },
  {
   "cell_type": "markdown",
   "id": "20488e15-be2f-40f7-b953-5064ddb630d1",
   "metadata": {},
   "source": [
    "## 1.5. Sélectionner des Features Intéressantes"
   ]
  },
  {
   "cell_type": "markdown",
   "id": "acff217a-6f84-4964-9223-e248892402b7",
   "metadata": {},
   "source": [
    "### Sélectionner les Features avec Plus de 50% de Valeurs Présentes :"
   ]
  },
  {
   "cell_type": "code",
   "execution_count": null,
   "id": "6d3301f9-8761-484a-b4c5-e75e668e3d42",
   "metadata": {},
   "outputs": [],
   "source": [
    "def select_features_with_more_than_50(df_without_target):\n",
    "    df_without_target=df_without_target.notnull().mean()*100\n",
    "    selected_features = df_without_target[df_without_target>50].index\n",
    "    selected_features = pd.DataFrame(selected_features,columns=['Features'])\n",
    "    print('Feature que vous pouvez selectionner:\\n ')\n",
    "    for index ,row in selected_features.iterrows():\n",
    "        print(f'{index+1} : {row[\"Features\"]}')\n",
    "    return selected_features\n",
    "#selected_features.columns=['Features']"
   ]
  },
  {
   "cell_type": "code",
   "execution_count": null,
   "id": "afed913b-fbc5-454e-8abe-eba0e43b2d8b",
   "metadata": {},
   "outputs": [],
   "source": [
    "def features_selection(selected,selected_features):\n",
    "    nb_element = int(input('Combien de feature voulez-vous utiliser (recommandé 3)'))\n",
    "    print(f'Selectionnez 1 à {nb_element} éléments:\\n')\n",
    "    #first_element = input(f'Entrez le numéro de votre premier choix pour terminer:')\n",
    "    #first_element = selected_features.iloc(first_element)\n",
    "    old_selected = selected\n",
    "    selected = [] # Pour stocker les features choisis\n",
    "    while len(selected) < nb_element:\n",
    "        if len(selected)<nb_element:\n",
    "            choice_index= input(f\"Entrez le numéro de votre choix numéro {len(selected)+1} ou tapez fin pour garder le choix initial\")\n",
    "            if choice_index.lower()=='fin':\n",
    "                if len(selected)==0:\n",
    "                    selected = old_selected\n",
    "                else:\n",
    "                    return selected\n",
    "            else:\n",
    "                try:\n",
    "                    choice_index= int(choice_index)-1\n",
    "                    if 0<= choice_index <len(selected_features):\n",
    "                        feature = selected_features.iloc[choice_index]['Features']\n",
    "                        if feature not in selected:\n",
    "                            selected.append(feature)\n",
    "                            print(f'Vous avez selectionné {feature}')\n",
    "                            print(f'Features selectionnées:{selected}')\n",
    "                        else:\n",
    "                            print(\"Vous avez déjà sélectionné cette feature. Veuillez choisir une autre.\")\n",
    "                    else:\n",
    "                        print('Numéro de choix invalide, veuillez entrer un numéro valide.')\n",
    "                except ValueError:\n",
    "                    print(\"Entrée invalide, veuillez entrer un numéro entier.\")\n",
    "    return selected"
   ]
  },
  {
   "cell_type": "code",
   "execution_count": null,
   "id": "5dafaa30-f197-45dc-a04b-7ae62cc38d76",
   "metadata": {},
   "outputs": [],
   "source": []
  }
 ],
 "metadata": {
  "kernelspec": {
   "display_name": "Python (P3_env)",
   "language": "python",
   "name": "p3_env"
  },
  "language_info": {
   "codemirror_mode": {
    "name": "ipython",
    "version": 3
   },
   "file_extension": ".py",
   "mimetype": "text/x-python",
   "name": "python",
   "nbconvert_exporter": "python",
   "pygments_lexer": "ipython3",
   "version": "3.11.7"
  }
 },
 "nbformat": 4,
 "nbformat_minor": 5
}
