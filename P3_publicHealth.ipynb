{
 "cells": [
  {
   "cell_type": "markdown",
   "id": "5bd95d9a-3c5e-427b-b3e5-04c4e771744b",
   "metadata": {},
   "source": [
    "# Ce projet fonctionne avec les versions des package suivants:\n",
    "\n",
    "- matplotlib==3.9.0\n",
    "- pandas==2.2.2\n",
    "- seaborn==0.13.2\n",
    "- missingno==0.5.2\n",
    "- scikit-learn==1.5.1"
   ]
  },
  {
   "cell_type": "markdown",
   "id": "6ee10346-955f-4247-8263-7414ca8277ec",
   "metadata": {},
   "source": [
    "## The Data\n",
    "This is a dataset of food products listing the ingredients and nutritional facts of more than 300,000 foods from over 150 countries in the world. The data is meant to be free to the public to help users decode food labels, and make better food choices in general. The dataset contains more than 300,000 rows over 163 columns. However, as we will see there are a lot of missing or obviously incorrect values.<br/>\n",
    "Generalities:\n",
    "\n",
    "- fields that end with _t are dates in the UNIX timestamp format (number of seconds since Jan 1st 1970)\n",
    "- fields that end with _datetime are dates in the iso8601 format: yyyy-mm-ddThh:mn:ssZ\n",
    "- fields that end with _tags are comma separated list of tags (e.g. categories_tags is the set of normalized tags computer from the categories field)\n",
    "- fields that end with a language 2 letter code (e.g. fr for French) is the set of tags in that language\n",
    "- fields that end with _100g correspond to the amount of a nutriment (in g, or kJ for energy) for 100 g or 100 ml of product\n",
    "- fields that end with _serving correspond to the amount of a nutriment (in g, or kJ for energy) for 1 serving of the product\n"
   ]
  },
  {
   "cell_type": "markdown",
   "id": "ba21eec6-bc1f-4d10-9a60-b9d306703693",
   "metadata": {},
   "source": [
    "# Importation des packages"
   ]
  },
  {
   "cell_type": "code",
   "execution_count": null,
   "id": "afd46565-a214-41c9-a2bb-dd76d592c2ca",
   "metadata": {},
   "outputs": [],
   "source": [
    "import numpy as np\n",
    "import pandas as pd\n",
    "from scipy import stats\n",
    "\n",
    "\n",
    "import statsmodels.api as sm\n",
    "from sklearn.impute import SimpleImputer,KNNImputer\n",
    "from sklearn.ensemble import IsolationForest\n",
    "import seaborn as sns\n",
    "import matplotlib.pyplot as plt\n",
    "import matplotlib.font_manager as fm\n",
    "\n",
    "import tkinter as tk\n",
    "from tkinter import filedialog\n",
    "\n",
    "import missingno as msno\n",
    "import ipywidgets as widgets\n",
    "from wordcloud import WordCloud\n",
    "from IPython.display import display, HTML"
   ]
  },
  {
   "cell_type": "markdown",
   "id": "c66acc3a-1a75-4097-93da-d61bb0fc68a5",
   "metadata": {},
   "source": [
    "# Nettoyer et Filtrer les Features et Produits"
   ]
  },
  {
   "cell_type": "markdown",
   "id": "b8c76c84-26e4-423b-a911-b9e15f489473",
   "metadata": {},
   "source": [
    "## 1.1. Collecter et Préparer les Données Brutes\n",
    "### 1. Charger les données dans un DataFrame Pandas"
   ]
  },
  {
   "cell_type": "code",
   "execution_count": null,
   "id": "87fe645c-05eb-49c9-b628-382d2de57a32",
   "metadata": {},
   "outputs": [],
   "source": [
    "def project_init():\n",
    "    global data \n",
    "    display(HTML(\"<h1 style='color: navy'>Open Food Facts</h1>\"))\n",
    "    print('Initialisation du projet...', end='\\r')\n",
    "    filepath ='datas/openfoodfacts.csv'\n",
    "    target ='additives_fr'\n",
    "    selected = ['energy_100g','salt_100g','alcohol_100g','cocoa_100g','potassium_100g','nutrition_grade_fr']\n",
    "    data = pd.read_csv(f\"{filepath}\", sep=\"\\t\", encoding=\"utf-8\", on_bad_lines=\"skip\", low_memory=False)\n",
    "    print(' '*len('Initialisation du projet...'), end='\\r')\n",
    "    print('Projet chargé')\n",
    "    return filepath, target, selected, data"
   ]
  },
  {
   "cell_type": "code",
   "execution_count": null,
   "id": "ecda7f8b-3f57-469d-b362-2a35eb08aee9",
   "metadata": {},
   "outputs": [],
   "source": [
    "def select_file():\n",
    "    print(\"charger le nouveau fichier\")\n",
    "    root =tk.Tk()\n",
    "    root.withdraw()\n",
    "\n",
    "    filepath = filedialog.askopenfilename(\n",
    "        title=\"Choisissez votre fichier csv\",\n",
    "        filetypes=((\"Fichiers CSV\",\"*.csv\"), (\"Tous les fichiers\",\"*.*\"))\n",
    "    )\n",
    "    print(' '*len(\"charger le nouveau fichier\"),end='\\r')\n",
    "    print(\"chargement en cours...\")\n",
    "    root.destroy()\n",
    "\n",
    "    if filepath:\n",
    "        try:\n",
    "            data = pd.read_csv(f\"{filepath}\", sep=\"\\t\", encoding=\"utf-8\", on_bad_lines=\"skip\", low_memory=False)\n",
    "            print(' '*len(\"chargement en cours...\"),end='\\r')\n",
    "            print(f\"Fichier chargé avec succès depuis le chemin: {filepath}\")\n",
    "            return data\n",
    "        except Exeption as e:\n",
    "            print(\"Erreur lors du chargement du fichier:\",e)\n",
    "    else:\n",
    "        print(\"Aucun fichier sélectionné.\")"
   ]
  },
  {
   "cell_type": "code",
   "execution_count": null,
   "id": "5212b746-e80b-494a-84a8-0fa2876c5f38",
   "metadata": {},
   "outputs": [],
   "source": [
    "# changement d'index\n",
    "# data = data.set_index('code')"
   ]
  },
  {
   "cell_type": "code",
   "execution_count": null,
   "id": "98832b19-7f69-483d-8122-0df983096028",
   "metadata": {},
   "outputs": [],
   "source": [
    "# Analyse de la dimension de la base de données\n",
    "# data.shape"
   ]
  },
  {
   "cell_type": "code",
   "execution_count": null,
   "id": "70458e3a-7258-4b92-afb1-4c2a0378f0e1",
   "metadata": {
    "scrolled": true
   },
   "outputs": [],
   "source": [
    "#Analyse de l'ensemble des variables de la base de données\n",
    "# data.info(verbose=True, show_counts=True)"
   ]
  },
  {
   "cell_type": "code",
   "execution_count": null,
   "id": "16c2d9f6-da3b-417b-ab2d-f6adf8ccb4f9",
   "metadata": {
    "scrolled": true
   },
   "outputs": [],
   "source": [
    "# data.isna().sum()"
   ]
  },
  {
   "cell_type": "code",
   "execution_count": null,
   "id": "3884e3b3-b16f-4158-b6df-27f66042e1d9",
   "metadata": {
    "scrolled": true
   },
   "outputs": [],
   "source": [
    "url='https://world.openfoodfacts.org/data/data-fields.txt'\n",
    "df_description = pd.read_csv(url, sep=\"\\t\", encoding=\"utf-8\", comment='#', header=None)\n",
    "fields={}\n",
    "current_category=None\n",
    "for index, row in df_description.iterrows():\n",
    "    line =row[0]\n",
    "    if line.startswith ('#'):\n",
    "        continue\n",
    "    if ':' in line:\n",
    "        key, description=line.split(':',1)\n",
    "        fields[key.strip()]=description.strip()\n",
    "    elif len(line.strip()) == 0:\n",
    "        continue\n",
    "    else:\n",
    "        current_category=line.strip()\n",
    "\n",
    "for key in list(fields.keys()):\n",
    "    print(f\"{key}: {fields[key]}\")"
   ]
  },
  {
   "cell_type": "code",
   "execution_count": null,
   "id": "9feaf8b8-621c-486b-89dc-663ae5dee356",
   "metadata": {
    "scrolled": true
   },
   "outputs": [],
   "source": [
    "# Analyse du type de variables dans la base de données\n",
    "pd.set_option('display.max_rows',None)\n",
    "# print(data.dtypes)"
   ]
  },
  {
   "cell_type": "markdown",
   "id": "6bdddb39-83f2-4ff6-a10a-0fc49597cd11",
   "metadata": {},
   "source": [
    "## 1.2. Identifier et Sélectionner les Features Pertinentes\n",
    "### 1.Lister les Features (Colonnes) :"
   ]
  },
  {
   "cell_type": "code",
   "execution_count": null,
   "id": "b1610e43-60d2-4aeb-8535-4bd8a5119895",
   "metadata": {},
   "outputs": [],
   "source": [
    "def feature_list(data):\n",
    "    features = data.columns\n",
    "    return features"
   ]
  },
  {
   "cell_type": "markdown",
   "id": "c2f91a4d-45c4-47db-b103-672c9a5fb26a",
   "metadata": {},
   "source": [
    "### 2.Séparer les Features Quantitatives et Qualitatives :"
   ]
  },
  {
   "cell_type": "code",
   "execution_count": null,
   "id": "eb75e696-2627-44c3-bd98-b917de84a837",
   "metadata": {},
   "outputs": [],
   "source": [
    "def split_features(data):\n",
    "    quantitative_features = data.select_dtypes(include=['float64','int64'])\n",
    "    qualitative_features = data.select_dtypes(include=['object'])\n",
    "    return quantitative_features,qualitative_features"
   ]
  },
  {
   "cell_type": "markdown",
   "id": "b87497c5-b682-4ac5-9dd3-0fdf1873573f",
   "metadata": {},
   "source": [
    "## 1.3. Choisir une Cible"
   ]
  },
  {
   "cell_type": "markdown",
   "id": "7594a68c-e67d-431b-86f2-2bcaeaf8d7f5",
   "metadata": {},
   "source": [
    "### 1.Choisir une Feature Cible avec Moins de 50% de Valeurs Présentes :"
   ]
  },
  {
   "cell_type": "code",
   "execution_count": null,
   "id": "841a7a73-e128-452c-843c-330de5bdf17f",
   "metadata": {
    "scrolled": true
   },
   "outputs": [],
   "source": [
    "def target_choice(qualitative_features, data, target):\n",
    "    display(HTML(\"<h3>Choisir une Feature Cible avec Moins de 50% de Valeurs Présentes</h3>\"))\n",
    "    # Calcule le pourcentage de valeurs manquantes pour chaque colonne\n",
    "    missing_percentages = data.isnull().mean() *100\n",
    "    \n",
    "    #Filtrer les features ayant moins de 50% de valeurs manquantes.\n",
    "    features_with_less_than_50_missing = missing_percentages[missing_percentages > 50]\n",
    "    \n",
    "    # Trier par ordre décroissant de pourcentage de valeurs manquantes\n",
    "    sorted_features = features_with_less_than_50_missing.sort_values(ascending=False)\n",
    "    \n",
    "    potential_targets = [feature for feature in sorted_features.index if feature in qualitative_features]\n",
    "\n",
    "    print(f'{len(potential_targets)} cibles potentiels avec moins de 50% des valeurs / {len(qualitative_features.columns)} features dans l\\'ordre. \\nSelectionner votre cible dans la liste suivantes :')\n",
    "    for index, feature in enumerate(potential_targets):\n",
    "        nb_fill_each_value= data[feature].count()\n",
    "        val_null= data[feature].isna().sum()\n",
    "        percentage_fill_each_value = (nb_fill_each_value / len(qualitative_features) * 100).round(2)\n",
    "        print(f\"{index+1}: {feature}: {percentage_fill_each_value}% des valeurs présentes soit {nb_fill_each_value} valeurs\")\n",
    "    try:\n",
    "        selected_index = int(input('Entrer l\\'index de votre cible:'))\n",
    "        target = potential_targets[selected_index-1]\n",
    "        print(\"Feature cible selectionnée:\", target)\n",
    "    except IndexError:\n",
    "        print(\"Invalid index. Please restart the selection process.\")\n",
    "    except ValueError:\n",
    "        print(\"Invalid input. Please enter a numeric index.\")\n",
    "    return target"
   ]
  },
  {
   "cell_type": "markdown",
   "id": "4bbe2a55-7fb6-4ce3-aef3-572de5a673c7",
   "metadata": {},
   "source": [
    "### Supprimer les Lignes (Produits) Sans Valeur Cible :\n"
   ]
  },
  {
   "cell_type": "code",
   "execution_count": null,
   "id": "601657a6-6331-42cc-bd95-09d56d0682c4",
   "metadata": {},
   "outputs": [],
   "source": [
    "def clean_row_without_target(data,target):\n",
    "    display(HTML(\"<h4>suppression des lignes sans cible...</h4>\"))\n",
    "    # print('suppression des lignes sans cible...',end='\\r')\n",
    "    data_nan = data[data[target].isna()]\n",
    "    data_cleaned = data.dropna(subset=[target])\n",
    "    result = data_cleaned.shape\n",
    "    # print(' '*len('suppression des lignes sans cible...'), end='\\r')\n",
    "    print('✅ Lignes sans cible supprimées')\n",
    "    return data_cleaned\n",
    "#data_nan.shape"
   ]
  },
  {
   "cell_type": "markdown",
   "id": "0b1f174b-cd5a-40d7-8e47-02425e8cfcf5",
   "metadata": {},
   "source": [
    "### 3.Séparer la Cible du Reste du Dataset :\n"
   ]
  },
  {
   "cell_type": "code",
   "execution_count": null,
   "id": "af2f59f7-b8c3-4a52-b51b-d841e125dc53",
   "metadata": {},
   "outputs": [],
   "source": [
    "def split_dataset_from_target(data_cleaned,target):\n",
    "    display(HTML(\"<h4>Séparation de la cible du reste du jeu de données</h4>\"))\n",
    "    print('Séparation de la cible du reste du dataset...',end='\\r')\n",
    "    df_without_target = data_cleaned.drop(columns=[target])\n",
    "    df_with_target=data_cleaned[target]\n",
    "    print(' '*len('Séparation de la cible du reste du dataset...'),end='\\r')\n",
    "    print('✅ Cible séparée du reste du jeu de données')\n",
    "    return df_without_target"
   ]
  },
  {
   "cell_type": "markdown",
   "id": "00d85cf1-768c-4532-aec6-b4190907a9f8",
   "metadata": {},
   "source": [
    "## 1.4. Afficher les Taux de Remplissage des Features"
   ]
  },
  {
   "cell_type": "code",
   "execution_count": null,
   "id": "01b6e4ef-9123-4f0e-b2e7-201a16b2fe84",
   "metadata": {
    "scrolled": true
   },
   "outputs": [],
   "source": [
    "def filling_rate_display(data_cleaned,df_without_target):\n",
    "    display(HTML(\"<h3 style='color: navy'>Taux de remplissage</h3>\"))\n",
    "    print('Affichage en cours...',end='\\r')\n",
    "    filling_rates = data_cleaned.notnull().mean()*100\n",
    "    sorted_value=df_without_target.count().sort_values(ascending=True)\n",
    "    sorted_df =df_without_target[sorted_value.index]\n",
    "    msno.bar(sorted_df)\n",
    "    # msno.matrix(sorted_df)\n",
    "    # msno.heatmap(sorted_df)\n",
    "    print(' '*len('Affichage en cours...'),end='\\r')"
   ]
  },
  {
   "cell_type": "markdown",
   "id": "20488e15-be2f-40f7-b953-5064ddb630d1",
   "metadata": {},
   "source": [
    "## 1.5. Sélectionner des Features Intéressantes"
   ]
  },
  {
   "cell_type": "markdown",
   "id": "acff217a-6f84-4964-9223-e248892402b7",
   "metadata": {},
   "source": [
    "### Sélectionner les Features avec Plus de 50% de Valeurs Présentes :"
   ]
  },
  {
   "cell_type": "code",
   "execution_count": null,
   "id": "6d3301f9-8761-484a-b4c5-e75e668e3d42",
   "metadata": {},
   "outputs": [],
   "source": [
    "def select_features_with_more_than_50(df_without_target):\n",
    "    display(HTML(\"<h3>Sélectionner les Features avec Plus de 50% de Valeurs Présentes</h3>\"))\n",
    "    # Calcul le pourcentage de valeurs non nulles pour les colonnes quantitatives\n",
    "    df_without_target=df_without_target.notnull().mean()*100\n",
    "\n",
    "    # Sélectionne les features avec plus de 50% de valeurs non nulles\n",
    "    selected_features = df_without_target[df_without_target>50].sort_values(ascending=True)\n",
    "\n",
    "    # Créer un DataFrame pour afficher les résultats\n",
    "    # selected_features = pd.DataFrame(selected_features,columns=['Features'])\n",
    "    print('Features ayant plus de 50% de valeurs que vous pouvez sélectionner (triées par ordre croissant) :\\n')\n",
    "    for index, (feature, percentage) in enumerate(selected_features.items(), start=1):\n",
    "        print(f'{index} : {feature} - {percentage:.2f}% de valeurs présentes')\n",
    "    return selected_features.index"
   ]
  },
  {
   "cell_type": "code",
   "execution_count": null,
   "id": "afed913b-fbc5-454e-8abe-eba0e43b2d8b",
   "metadata": {},
   "outputs": [],
   "source": [
    "def features_selection(selected,selected_features):\n",
    "    nb_element = int(input('Combien de feature voulez-vous utiliser (recommandé 3)'))\n",
    "    print(f'Selectionnez 1 à {nb_element} éléments:\\n')\n",
    "    old_selected = selected\n",
    "    selected = [] # Pour stocker les features choisis\n",
    "    while len(selected) < nb_element:\n",
    "        if len(selected)<nb_element:\n",
    "            choice_index= input(f\"Entrez le numéro de votre choix numéro {len(selected)+1} ou tapez fin pour garder le choix initial\")\n",
    "            if choice_index.lower()=='fin':\n",
    "                if len(selected)==0:\n",
    "                    selected = old_selected\n",
    "                else:\n",
    "                    return selected\n",
    "            else:\n",
    "                try:\n",
    "                    choice_index= int(choice_index)-1\n",
    "                    if 0<= choice_index <len(selected_features):\n",
    "                        feature = selected_features[choice_index]\n",
    "                        if feature not in selected:\n",
    "                            selected.append(feature)\n",
    "                            display(HTML(f'<p><b>Vous avez selectionné</b> {feature}</p>'))\n",
    "                            display(HTML(f'<p>Features selectionnées: <b>{selected}</b></p>'))\n",
    "                            # print(f'Vous avez selectionné {feature}')\n",
    "                            # print(f'Features selectionnées:{selected}')\n",
    "                        else:\n",
    "                            print(\"Vous avez déjà sélectionné cette feature. Veuillez choisir une autre.\")\n",
    "                    else:\n",
    "                        print('Numéro de choix invalide, veuillez entrer un numéro valide.')\n",
    "                except ValueError:\n",
    "                    print(\"Entrée invalide, veuillez entrer un numéro entier.\")\n",
    "    return selected"
   ]
  },
  {
   "cell_type": "code",
   "execution_count": null,
   "id": "909664b7-475f-4db3-be7f-d50268b0c02f",
   "metadata": {},
   "outputs": [],
   "source": [
    "def clean_duplicate(data_cleaned, target, selected):\n",
    "    num_rows, num_cols = data_cleaned.shape\n",
    "\n",
    "    display(HTML(\"<h3 style='color: navy'>Nettoyage des doublons</h3>\"))\n",
    "\n",
    "    print(f'Nombre de lignes avant nettoyage : {num_rows}')\n",
    "\n",
    "    columns_to_check = [target] + selected  # Ajoute 'target' à la liste 'selected'\n",
    "    print(f'Est considéré comme doublons toutes les lignes ayant des valeurs identique sur l\\'ensembles des colonnes {columns_to_check}')\n",
    "    \n",
    "    data_after_cleaned = data_cleaned.drop_duplicates(subset =columns_to_check)\n",
    "    data_after_cleaned = data_after_cleaned.reset_index(drop=True)\n",
    "    num_rows_after, num_cols_after = data_after_cleaned.shape\n",
    "\n",
    "    print(f'Nombre de lignes après nettoyage : {num_rows_after}')\n",
    "    return data_after_cleaned"
   ]
  },
  {
   "cell_type": "markdown",
   "id": "f0518cb5-ee91-45a9-a08c-41d500364f0d",
   "metadata": {},
   "source": [
    "# Automatisation Partie 1: Nettoyer et filtrer les features et produits"
   ]
  },
  {
   "cell_type": "code",
   "execution_count": null,
   "id": "4e605a0e-12c2-418e-a587-52e4bed1f9ca",
   "metadata": {},
   "outputs": [],
   "source": [
    "def clean_and_filter_features_and_products(filepath, target, selected, data):\n",
    "    print('Paramètre par défaut:\\n')\n",
    "    print(f'chemin du fichier:\\n --> {filepath}\\n')\n",
    "    print(f'Cible de l\\'analyse:\\n --> {target}\\n')\n",
    "    print(f'Features de l\\'analyse:\\n --> {selected}\\n')\n",
    "    \n",
    "    \n",
    "    default_params=input('Souhaitez-vous changer les paramètres par défault?\\n O (Oui) / N (Non)')\n",
    "    \n",
    "    if default_params.lower() == \"o\":\n",
    "        \n",
    "        filepath_params=input('Souhaitez-vous changer de fichier?\\n O (Oui) / N (Non)')\n",
    "        \n",
    "        if filepath_params.lower()=='o': # Change le fichier de jeu de données\n",
    "            data = select_file()  #Fonction de selection du nouveau fichier\n",
    "            feature_list(data) # Liste des colonnes avec le nouveau ficher\n",
    "        \n",
    "        quantitative_features, qualitative_features = split_features(data) #Features avec le nouveau ficher\n",
    "        \n",
    "        target_params=input(f'Souhaitez-vous changer la cible d\\'analye? {target}\\n O (Oui) / N (Non)')\n",
    "        if target_params.lower()=='o':\n",
    "            target = target_choice(qualitative_features, data, target) # Change la cible d'analyse\n",
    "            data_cleaned = clean_row_without_target(data,target) # Supprime les ligne n'ayant pas de cible\n",
    "            df_without_target = split_dataset_from_target(data_cleaned,target) #sépare et recupère un dataframe sans la colonne cible    \n",
    "        print(f\" Nouvelle cible d'analyse: {target}\")\n",
    "    \n",
    "        selected_params=input(f'Souhaitez-vous changer de Features? actuellement {selected}\\n O (Oui) / N (Non)')\n",
    "        if selected_params.lower()=='o':\n",
    "            if filepath_params.lower()!='o':\n",
    "                data_cleaned = clean_row_without_target(data,target) # Supprime les ligne n'ayant pas de cible\n",
    "                df_without_target = split_dataset_from_target(data_cleaned,target) #sépare et recupère un dataframe sans la colonne cible\n",
    "            selected_features=select_features_with_more_than_50(df_without_target)      \n",
    "            selected =features_selection(selected,selected_features)\n",
    "        print(f'Nouvelles Features selectionnées:{selected}')    \n",
    "    else:\n",
    "        quantitative_features, qualitative_features = split_features(data)\n",
    "        data_cleaned = clean_row_without_target(data,target)\n",
    "        df_without_target = split_dataset_from_target(data_cleaned,target)\n",
    "    \n",
    "    data_clean_duplicate=clean_duplicate(data_cleaned,target, selected)\n",
    "    filling_rate_display(data_cleaned,data_clean_duplicate)\n",
    "    \n",
    "    columns_to_keep = ['product_name','url'] + [target] + selected\n",
    "    \n",
    "    data_filtered = data_clean_duplicate[columns_to_keep]\n",
    "    return data_filtered, quantitative_features, qualitative_features, target, selected"
   ]
  },
  {
   "cell_type": "markdown",
   "id": "de4b3509-2d39-4d5f-a327-d9e992cebf1f",
   "metadata": {},
   "source": [
    "# Identifier et traitez les valeurs aberrantes"
   ]
  },
  {
   "cell_type": "code",
   "execution_count": null,
   "id": "cf9bce48-5e98-47d4-aecc-1fd2970bd341",
   "metadata": {},
   "outputs": [],
   "source": [
    "def missing_value_prop(data_filtered):\n",
    "    display(HTML(\"<h3 style='color: navy;'>Proportion des valeurs manquantes de la cible et des features selectionnées</h3>\"))\n",
    "    data_filtered_copy=data_filtered.isnull().mean()\n",
    "    \n",
    "    data_filtered_copy=data_filtered_copy.sort_values(ascending=False)\n",
    "    \n",
    "    sns.set_style('whitegrid')\n",
    "    fig, ax = plt.subplots(figsize=(12,8))\n",
    "    \n",
    "    sns.barplot(x=data_filtered_copy.index, y=data_filtered_copy.values, ax=ax,color='blue')\n",
    "    \n",
    "    ax.set_xlabel('Features')\n",
    "    ax.set_ylabel('Proportion des valeurs manquantes')\n",
    "    ax.tick_params(axis='x', rotation=90)\n",
    "    ax.set_title('Proportion des valeurs manquantes par features')\n",
    "    plt.show()"
   ]
  },
  {
   "cell_type": "code",
   "execution_count": null,
   "id": "c6c7bb7b-8739-4966-90d5-0f59098fd57c",
   "metadata": {},
   "outputs": [],
   "source": [
    "font_paths = [\n",
    "    '/Users/yann/FromNas/Training/IA Engineer/P3_santePublique/dejavu-fonts-ttf-2.37/ttf/DejaVuSans.ttf',  # DejaVu Sans\n",
    "    '/Users/yann/Library/Fonts/NotoSansCJK.ttc',  # Noto Sans CJK pour les caractères chinois, japonais et coréens\n",
    "    '/Users/yann/Library/Fonts/NotoSansThai-VariableFont_wdth,wght.ttf'\n",
    "]\n",
    "font_props = [fm.FontProperties(fname=font_path) for font_path in font_paths]\n",
    "plt.rcParams['font.family'] = [fp.get_name() for fp in font_props]\n",
    "def clean_text(text):\n",
    "    return ''.join([char if ord(char)>=32 else '' for char in text])"
   ]
  },
  {
   "cell_type": "code",
   "execution_count": null,
   "id": "da75d59a-2e86-44d4-a42a-2635cdfed244",
   "metadata": {},
   "outputs": [],
   "source": [
    "def graph_analysis(data_filtered,target,selected):\n",
    "\n",
    "    html_content = \"\"\"\n",
    "    <h3 style='color: navy;'>Graphe de distribution de la cible et des features selectionnées</h3>\n",
    "    \"\"\"\n",
    "    display(HTML(html_content))\n",
    "    quantitative_features, qualitative_features = split_features(data_filtered)\n",
    "    threshold = 10\n",
    "    threshold_target = 20\n",
    "    \n",
    "    value_counts_target = data_filtered[target].value_counts()\n",
    "    to_keep_target = value_counts_target[value_counts_target>threshold_target].index\n",
    "    data_filtered_backup = data_filtered.copy()\n",
    "    data_filtered.loc[:,f'{target}_simplified'] = data_filtered[target].apply(lambda x: x if x in to_keep_target else 'Autres')\n",
    "    \n",
    "    plt.figure(figsize=(20, 6))\n",
    "    \n",
    "    if data_filtered[target].nunique()<20:\n",
    "        display(HTML(f'<p> Moins de 20 valeur pour la cible: <b>{target} --> Affichage sous forme de pie chart</b></p>'))\n",
    "        fig, ax =plt.subplots(figsize=(16,14))\n",
    "        counts = data_filtered[target].value_counts()  # Comptez les occurrences de chaque catégorie\n",
    "        ax.pie(counts, labels=None, autopct='%1.1f%%',  textprops={'size': 'smaller'},pctdistance=1.1)\n",
    "        ax.legend(wedges, counts.index, title=target, loc=\"upper left\", bbox_to_anchor=(1, 0, 0.5, 1))\n",
    "        ax.axis('equal')\n",
    "        plt.title(f'Distribution of {target}')\n",
    "        plt.show()\n",
    "        \n",
    "    else:\n",
    "        display(HTML(f'<p> Plus de 20 valeurs pour la cible: <b>{target} --> Affichage sous forme de diagramme en barres</b></p>'))\n",
    "        sns.countplot(x=f'{target}_simplified', data=data_filtered)\n",
    "        plt.title(f'Distribution of {target}')\n",
    "        plt.xticks(rotation=90, fontsize=6)\n",
    "        plt.show()\n",
    "        \n",
    "    check_feat_nbr = 0\n",
    "    for feat in selected:\n",
    "        check_feat_nbr +=1 \n",
    "        if feat in qualitative_features.columns:\n",
    "            display(HTML(f'<p> Feature <b>{feat}</b> est une variable qualitative --> Affichage sous forme de diagramme en barres</b></p>'))\n",
    "            value_counts = data_filtered[feat].value_counts()\n",
    "            to_keep = value_counts[value_counts>threshold].index\n",
    "            data_filtered.loc[:,f'{feat}_simplified']=data_filtered[feat].apply(lambda x:x if x in to_keep else 'Autres')\n",
    "            # print(f'{feat} is in')\n",
    "            plt.figure(figsize=(20, 6))\n",
    "            sns.countplot(x=f'{feat}_simplified', data=data_filtered)\n",
    "            plt.title(f'Distribution of {feat}')\n",
    "            plt.xticks(rotation=90, fontsize=8)\n",
    "            plt.show()\n",
    "            # plt.tight_layout()\n",
    "        else:\n",
    "\n",
    "            # Calculer quelques statistiques de base\n",
    "            min_value = data_filtered[feat].min()\n",
    "            max_value = data_filtered[feat].max()\n",
    "            std_dev = data_filtered[feat].std()\n",
    "            mean_value = data_filtered[feat].mean()\n",
    "            range_value = max_value - min_value\n",
    "\n",
    "            if min_value > 0:\n",
    "                ratio = max_value / min_value\n",
    "            else:\n",
    "                ratio = float('inf')  # Si min_value est 0, le ratio est considéré comme infini\n",
    "            \n",
    "            # Critères pour décider d'utiliser une échelle logarithmique\n",
    "            use_log_scale = (ratio > 1000) or (std_dev > mean_value)\n",
    "     \n",
    "            \n",
    "            plt.figure(figsize=(20, 6))\n",
    "            \n",
    "            if use_log_scale:\n",
    "                display(HTML(f'<p> Feature <b>{feat}</b> est une variable quantitative --> Affichage sous forme d\\'histogramme</b></p>'))\n",
    "                display(HTML(f'<p> Utilisation d\\'une echelle logarithmique car trop de valeur pour un affichage noraml = <b>{data_filtered[feat].count()}</b></p>'))\n",
    "                log_feat = np.log1p(data_filtered[feat])\n",
    "                sns.histplot( x=log_feat, kde=True, bins='auto')\n",
    "                plt.title(f'Distribution of {feat} en échelle logarithmique')\n",
    "            else:\n",
    "                display(HTML(f'<p> Feature <b>{feat}</b> est une variable quantitative --> Affichage sous forme d\\'histogramme</b></p>'))\n",
    "                display(HTML(f'<p> Utilisation d\\'une echelle NON logarithmique car nombre de valeur = <b>{data_filtered[feat].count()}</b></p>'))\n",
    "                sns.histplot( x=feat, kde=True, bins='auto',data=data_filtered)\n",
    "                plt.title(f'Distribution of {feat}')               \n",
    "            plt.xticks(rotation=90, fontsize=6)\n",
    "            plt.show()\n",
    "            \n",
    "            \n",
    "        if check_feat_nbr == len(selected):\n",
    "            data_filtered=data_filtered_backup\n",
    "            return data_filtered\n",
    "    return data_filtered"
   ]
  },
  {
   "cell_type": "code",
   "execution_count": null,
   "id": "b08a38a8-fb6a-417a-aea0-e2f6b230df1c",
   "metadata": {},
   "outputs": [],
   "source": [
    "def boxplot_before_IQR(quantitative_features,data_filtered):\n",
    "    display(HTML(\"<h3 style='color: navy;'>Boxplot AVANT traitement des valeurs abérrantes</h3>\"))\n",
    "    for feature in data_filtered:\n",
    "        if feature in quantitative_features.columns:\n",
    "            sns.boxplot(x=feature, data=data_filtered)\n",
    "            plt.title(f'Boxplot of {feature} with outliers')\n",
    "            plt.show()"
   ]
  },
  {
   "cell_type": "code",
   "execution_count": null,
   "id": "1a5591db-786a-4aea-b50c-2609cdbb4f4d",
   "metadata": {},
   "outputs": [],
   "source": [
    "def box_outliers(quantitative_features,feature):\n",
    "    Q1 = quantitative_features[feature].quantile(0.25)\n",
    "    Q3 = quantitative_features[feature].quantile(0.75)\n",
    "    IQR = Q3 - Q1\n",
    "    lower_limit = max(0,Q1 - 1.5 * IQR)\n",
    "    upper_limit = Q3 + 1.5 * IQR\n",
    "    outliers = (quantitative_features[feature]<lower_limit) | (quantitative_features[feature]>upper_limit)\n",
    "    print(f'Outliers de {feature}')\n",
    "    print(f'lower_limit de {feature}: {lower_limit}')\n",
    "    print(f'upper_limit de {feature}: {upper_limit}')\n",
    "    return outliers, lower_limit, upper_limit"
   ]
  },
  {
   "cell_type": "code",
   "execution_count": null,
   "id": "61d54f59-8121-4be5-abd1-69cb3ee9834c",
   "metadata": {},
   "outputs": [],
   "source": [
    "def normal_indicator(feature,data_filtered):\n",
    "    feature_data = data_filtered[feature].dropna()  # Supprimer les NaN pour éviter les erreurs\n",
    "\n",
    "    # Calcul du skewness et du kurtosis\n",
    "    skewness = stats.skew(feature_data)\n",
    "    kurtosis = stats.kurtosis(feature_data,fisher=False)#Vrai kurtosis\n",
    "    # excess_kurtosis = stats.kurtosis(feature_data)#Vrai kurtosis\n",
    "    # print(f\"Skewness: {skewness}\")\n",
    "    # print(f\"Kurtosis réel: {kurtosis}\")\n",
    "    # print(f\"Excès de kurtosis: {excess_kurtosis}\")\n",
    "    return skewness,kurtosis"
   ]
  },
  {
   "cell_type": "code",
   "execution_count": null,
   "id": "8ec751f6-2992-413e-9259-25cfae73cb3e",
   "metadata": {},
   "outputs": [],
   "source": [
    "def isolation_forest_calc(data_filtered, feature):\n",
    "    # Récupération des données réelles de la feature sous forme de tableau 2D\n",
    "    feature_data = data_filtered[[feature]].dropna()\n",
    "    \n",
    "    # Initialisation du modèle Isolation Forest\n",
    "    iso_forest = IsolationForest(contamination=0.1, random_state=42)\n",
    "\n",
    "    # Ajustement du modèle et prédiction des outliers\n",
    "    outliers_labels = iso_forest.fit_predict(feature_data.values.reshape(-1, 1))\n",
    "    \n",
    "    # Reindexer les labels pour correspondre à l'index de feature_data\n",
    "    outliers_labels = pd.Series(outliers_labels, index=feature_data.index)\n",
    "    \n",
    "    return outliers_labels"
   ]
  },
  {
   "cell_type": "code",
   "execution_count": null,
   "id": "1bc03fd6-3f1e-485e-8ce0-3b67915fbfa5",
   "metadata": {},
   "outputs": [],
   "source": [
    "def outliers_calc(quantitative_features,data_filtered):\n",
    "    html_content=f\"\"\"\n",
    "    <h3 style='color: navy;'>Boxplot APRÈS traitement des valeurs abérrantes</h3>\n",
    "    Pour chacune de nos features, on calcul:</br>\n",
    "    - Le Skewness et,</br>\n",
    "    - le kurtosis.</br>\n",
    "    Ces coefficients nous permettent de définir si nos distributions suivent une loi normal (Skweness = 0 et Kurtosis = 3 pour valider la loi normal)</br>\n",
    "    Si la validation est confirmée, on utilise 'IQR' pour les valeurs abérrantes,</br>\n",
    "    sinon on utilisera 'Isolation forest'\n",
    "    \"\"\"\n",
    "    display(HTML(html_content))\n",
    "    data_filtered_without_outliers = data_filtered.copy()\n",
    "    for feature in data_filtered:\n",
    "        if feature in quantitative_features.columns:\n",
    "            skewness,kurtosis = normal_indicator(feature,data_filtered)\n",
    "            if skewness != 0 and kurtosis!=3:\n",
    "                display(HTML(f\"<h4 style='color: navy;'>Feature {feature}</h4>\"))\n",
    "                print(f'Skewness différents de 0, ici: {skewness.round(2)} et kurtosis différents de 3, ici: {kurtosis.round(2)}')\n",
    "                display(HTML(\"<p style='color: navy;'><b>Utilisation de la méthode Isolation forest</b></p>\"))\n",
    "                # print(f'Utilisation de la méthode Isolation forest')\n",
    "\n",
    "                feature_data = data_filtered[feature].dropna()\n",
    "                if feature_data.shape[0] == 0:\n",
    "                    display(HTML(f\"<p style='color: red;'>Pas de données valides pour {feature}. Skipping.</p>\"))\n",
    "                    continue\n",
    "                    \n",
    "                outliers_labels=isolation_forest_calc(data_filtered,feature)   \n",
    "                \n",
    "                # Filtrer data_filtered_without_outliers pour ne garder que les inliers\n",
    "                inliers = outliers_labels[outliers_labels == 1].index\n",
    "                data_filtered_without_outliers = data_filtered_without_outliers.loc[inliers]\n",
    "\n",
    "                # Filtrer data_filtered pour ne garder que les inliers\n",
    "                data_filtered = data_filtered.loc[outliers_labels[outliers_labels == 1].index]\n",
    "\n",
    "                # Affichage des résultats\n",
    "                # print(f\"Outliers détectés dans {feature}: {sum(outliers_labels == -1)}\")\n",
    "         \n",
    "                quant_data_df_outliers = data_filtered[[feature]]\n",
    "            else:\n",
    "                display(HTML(f\"<h4 style='color: navy;'>Feature {feature}</h4>\"))\n",
    "                print(f'Skewness égale à 0, ici: {skewness.round(2)} et kurtosis égale à 3, ici: {kurtosis.round(2)}')\n",
    "                display(HTML(\"<p style='color: navy;'>Utilisation de la méthode IQR</p>\"))\n",
    "                # print(f'Utilisation de la méthode IQR')\n",
    "                outliers, lower_limit, upper_limit = box_outliers(quantitative_features,feature)\n",
    "                \n",
    "                # Filtrer les outliers selon la méthode IQR\n",
    "                inliers = data_filtered_without_outliers[(data_filtered_without_outliers[feature] >= lower_limit) & \n",
    "                                                         (data_filtered_without_outliers[feature] <= upper_limit)].index\n",
    "                \n",
    "                \n",
    "                quant_data_df_outliers = quantitative_features[(quantitative_features[feature]>=lower_limit) & \n",
    "                                                                (quantitative_features[feature]<=upper_limit)]\n",
    "            sns.boxplot(x=feature, data=quant_data_df_outliers)\n",
    "            plt.title(f'Boxplot of {feature} without outliers')\n",
    "            plt.show()\n",
    "    return data_filtered_without_outliers"
   ]
  },
  {
   "cell_type": "code",
   "execution_count": null,
   "id": "76177dbc-a8fb-4a92-8ff5-d4521b937db1",
   "metadata": {},
   "outputs": [],
   "source": [
    "def worcloud_graph(data_filtered,qualitative_features):\n",
    "    columns_to_exclude = ['code','nutrition_grade_fr', 'url']  # Ajoutez d'autres colonnes ici si nécessaire\n",
    "    display(HTML(\"<h3 style='color: navy;'>Nuage des mots les plus représentés pour les features qualitative</h3>\"))\n",
    "\n",
    "    for feature in data_filtered:\n",
    "        if feature not in columns_to_exclude and feature in qualitative_features:\n",
    "            text = ' '.join(str(x) for x in data_filtered[feature] if x is not None and not pd.isna(x))\n",
    "            if text.strip() and any(c.isalpha() for c in text):\n",
    "                wordcloud = WordCloud(width=800, height=400, background_color='white').generate(text)\n",
    "                plt.figure(figsize=(14, 8))\n",
    "                plt.title(f'WordCloud for the feature: {feature}')\n",
    "                plt.imshow(wordcloud, interpolation='bilinear')\n",
    "                plt.axis(\"off\")\n",
    "                plt.show()\n",
    "            else:\n",
    "                print(f\"No valid data to generate wordcloud for the feature: {feature}. Possible only numeric or empty strings.\")"
   ]
  },
  {
   "cell_type": "code",
   "execution_count": null,
   "id": "86cd2677-30e3-4892-afec-7a3afec3ac57",
   "metadata": {},
   "outputs": [],
   "source": [
    "def find_and_handles_outliers(data_filtered,target,selected,quantitative_features):\n",
    "    missing_value_prop(data_filtered)\n",
    "    data_filtered=graph_analysis(data_filtered, target,selected)\n",
    "    # missing_prop(data_filtered)\n",
    "    boxplot_before_IQR(quantitative_features,data_filtered)\n",
    "    data_filtered=outliers_calc(quantitative_features,data_filtered)\n",
    "    return data_filtered\n",
    "    # worcloud_graph(data_filtered,qualitative_features)"
   ]
  },
  {
   "cell_type": "code",
   "execution_count": null,
   "id": "c9e359e0-209d-4cd2-8ca7-0c932d625e2d",
   "metadata": {},
   "outputs": [],
   "source": [
    "def app_launch():\n",
    "    filepath, target, selected, data = project_init()\n",
    "    display(HTML(\"<h2>Nettoyer et filtrez les features et produits</h2>\"))\n",
    "    data_filtered,quantitative_features, qualitative_features, target, selected = clean_and_filter_features_and_products(filepath, target, selected, data)\n",
    "    display(HTML(\"<h2>Identifiez et traitez les valeurs aberrantes</h2>\"))\n",
    "    data_filtered=find_and_handles_outliers(data_filtered,target,selected,quantitative_features)\n",
    "    # print(data_filtered.shape)\n",
    "    return data_filtered,quantitative_features, qualitative_features\n",
    "data_filtered,quantitative_features,qualitative_features = app_launch()"
   ]
  },
  {
   "cell_type": "markdown",
   "id": "e38775f5-7bed-4707-8d87-d4a186e728c0",
   "metadata": {},
   "source": [
    "# Étape 3 : Identifiez et traitez les valeurs manquantes"
   ]
  },
  {
   "cell_type": "code",
   "execution_count": null,
   "id": "506f2b92-58ec-4d63-94c7-e599324270a3",
   "metadata": {},
   "outputs": [],
   "source": [
    "def title(title, title_size='h2'):\n",
    "    if title_size == 'h2':\n",
    "        display(HTML(f\"<h2 style='color: navy;'>{title}</h2>\"))\n",
    "    elif title_size == 'h3':\n",
    "        display(HTML(f\"<h3 style='color: navy;'>{title}</h3>\"))\n",
    "    else:\n",
    "        display(HTML(f\"<h4 style='color: navy;'>{title}</h4>\"))"
   ]
  },
  {
   "cell_type": "code",
   "execution_count": null,
   "id": "a015f8a5-6c70-4202-8894-6b9622f7eca6",
   "metadata": {},
   "outputs": [],
   "source": [
    "def find_missing_value(data_filtered):\n",
    "    plt.figure(figsize=(10, 6))\n",
    "    msno.matrix(data_filtered)\n",
    "    plt.show()"
   ]
  },
  {
   "cell_type": "code",
   "execution_count": null,
   "id": "d456033e-0112-4b97-a500-12310f44cc2d",
   "metadata": {},
   "outputs": [],
   "source": [
    "def simple_imputer(data_filtered):\n",
    "    try:\n",
    "        for feature in data_filtered.columns:\n",
    "            if feature in qualitative_features.columns:\n",
    "                display(HTML(f\"<p>Utilisation de simple Imputer pour la feature {feature}</p>\"))\n",
    "                imputer = SimpleImputer(strategy='constant', fill_value='missing')\n",
    "                data_filtered[feature]=imputer.fit_transform(data_filtered[[feature]]).ravel()\n",
    "                display(HTML(\"<p>Simple Imputer a réussi à imputer les valeurs manquantes des variables qualitatives.</p>\"))\n",
    "                return data_filtered\n",
    "    except Exception as e:\n",
    "        display(HTML(f\"<p>Erreur lors de l'imputation avec SimpleImputer: {str(e)}</p>\"))\n",
    "        return data_filtered"
   ]
  },
  {
   "cell_type": "code",
   "execution_count": null,
   "id": "bffc89be-06eb-4d41-8f85-4443ece4e4e4",
   "metadata": {},
   "outputs": [],
   "source": [
    "def KNN_imputer(data_filtered):\n",
    "    try:\n",
    "        \n",
    "        numeric_data = data_filtered.select_dtypes(include=[np.number])\n",
    "        \n",
    "        impute_knn = KNNImputer(n_neighbors=2)\n",
    "        numeric_data_imputed=impute_knn.fit_transform(numeric_data)\n",
    "    \n",
    "        # Convertir le résultat en DataFrame et réassigner les noms de colonnes\n",
    "        numeric_data_imputed = pd.DataFrame(numeric_data_imputed, columns=numeric_data.columns)\n",
    "    \n",
    "        \n",
    "        # Réassembler les données numériques et non numériques\n",
    "        non_numeric_data=data_filtered.select_dtypes(exclude=[np.number])\n",
    "        data_filtered_imputed=pd.concat([numeric_data_imputed,non_numeric_data], axis=1)\n",
    "        display(HTML(\"<p>KNN Imputer a réussi à imputer les valeurs manquantes des variables quantitatives.</p>\"))\n",
    "\n",
    "        return data_filtered_imputed\n",
    "        \n",
    "    except Exception as e:\n",
    "        display(HTML(f\"<p>Erreur lors de l'imputation avec KNNImputer: {str(e)}</p>\"))\n",
    "        return data_filtered"
   ]
  },
  {
   "cell_type": "code",
   "execution_count": null,
   "id": "2aae1bfa-8ecc-46c7-9cfe-bacbaf9b89ea",
   "metadata": {},
   "outputs": [],
   "source": [
    "def impute_zero(data_filtered):\n",
    "    try:\n",
    "        # Remplacer les valeurs manquantes par 0 dans toutes les colonnes numériques\n",
    "        numeric_columns = data_filtered.select_dtypes(include=[np.number]).columns\n",
    "        data_filtered[numeric_columns] = data_filtered[numeric_columns].fillna(0)\n",
    "        return data_filtered\n",
    "    except Exception as e:\n",
    "        display(HTML(\"<p>Affectation de la valeur 0 a réussi pour les variables quantitatives.</p>\"))\n",
    "        return data_filtered"
   ]
  },
  {
   "cell_type": "code",
   "execution_count": null,
   "id": "2e1501ff-db55-4d79-9920-2127ef8dfb58",
   "metadata": {},
   "outputs": [],
   "source": [
    "def select_imputation_type(options,description,tooltips):\n",
    "    # Créer un groupe de boutons à bascule\n",
    "    toggle_buttons = widgets.ToggleButtons(\n",
    "        options=options,\n",
    "        description=description,\n",
    "        disabled=False,\n",
    "        button_style='', \n",
    "        tooltips=tooltips,\n",
    "    )\n",
    "    \n",
    "    # Afficher les boutons à bascule groupés\n",
    "    display(toggle_buttons)\n",
    "    \n",
    "    # Retourner le widget pour que l'utilisateur puisse interagir avec\n",
    "    return toggle_buttons"
   ]
  },
  {
   "cell_type": "code",
   "execution_count": null,
   "id": "8de70d20-91de-4764-970e-3c8154252cdb",
   "metadata": {},
   "outputs": [],
   "source": [
    "from IPython.display import clear_output\n",
    "\n",
    "def imputation_value(data_filtered):\n",
    "    quant_var_nbr=data_filtered.select_dtypes(include=['float64','int64']).shape[1]\n",
    "    qual_var_nbr=data_filtered.select_dtypes(include=['object']).shape[1]\n",
    "\n",
    "    html_content= f\"\"\"\n",
    "    <p>il y a {quant_var_nbr} variable quantitatives et {qual_var_nbr} variable qualitatives.</p>\n",
    "    <p>Nous allons définir la méthode de traitement des valeurs manquantes de ces 2 types de variables</p>\n",
    "    <p>Vous pouvez laisser les paramètres par défaut. Dans ce cas les imputations des valeur manquantes seront:</p>\n",
    "    <ul>\n",
    "    <li>Variable qualitative: 'missing' pour toutes les valeurs manquantes.</li>\n",
    "    <li>Variable quantitative: '0' à toutes les valeurs manquantes.</li>\n",
    "    </ul>\n",
    "    \"\"\"\n",
    "    display(HTML(html_content))\n",
    "    \n",
    "    default_choice = widgets.RadioButtons(\n",
    "        options=['Garder les paramètres par défaut', 'Personnaliser les options'],\n",
    "        description='Choix :',\n",
    "        disabled=False\n",
    "    )\n",
    "    display(default_choice)\n",
    "    \n",
    "    output = widgets.Output()\n",
    "    def on_radio_confirm_click(change):\n",
    "            with output:\n",
    "                clear_output(wait=True)\n",
    "                if default_choice.value == 'Garder les paramètres par défaut':\n",
    "                    display(HTML(\"<p>Vous avez choisi de garder les paramètres par défaut : 'missing' pour les qualitatives et '0' pour les quantitatives.</p>\"))\n",
    "                    simple_imputer(data_filtered)\n",
    "                    find_missing_value(data_filtered)\n",
    "                elif default_choice.value == 'Personnaliser les options':\n",
    "                    display(HTML(\"<p>Personnalisez les options d'imputation :</p>\"))\n",
    "            \n",
    "            \n",
    "                    qual_imputation_choice = select_imputation_type(\n",
    "                        options=['missing', 'KNN'],\n",
    "                        description='Variables qualitative (texte): Affectation de la valeur missing ou utilisation de KNN',\n",
    "                        tooltips=['Affectation de la valeur \"missing\"', 'Utilisation de la méthod KNN'])\n",
    "                \n",
    "                    # Choix pour les variables quantitatives\n",
    "                    quant_imputation_choice = select_imputation_type(\n",
    "                        description='Variables quantitative (nombre):',\n",
    "                        options=['0', 'KNN'],\n",
    "                        tooltips=['Affecter \"0\" aux valeurs manquantes', 'Utiliser la moyenne pour imputer les valeurs manquantes']\n",
    "                    )\n",
    "                    \n",
    "                    def on_button_click(b):\n",
    "                        qual_selected_choice = qual_imputation_choice.value\n",
    "                        quant_selected_choice = quant_imputation_choice.value\n",
    "                        with output:\n",
    "                            clear_output(wait=True)\n",
    "                            display(HTML(f\"<p>Choix pour les variables qualitatives : <b>{qual_selected_choice}</b></p>\"))\n",
    "                            display(HTML(f\"<p>Choix pour les variables quantitatives : <b>{quant_selected_choice}</b></p>\"))\n",
    "                \n",
    "                            if qual_selected_choice =='missing':\n",
    "                                simple_imputer(data_filtered)\n",
    "                            elif qual_selected_choice =='KNN':\n",
    "                                display(HTML(\"<p>La méthode KNN sera utilisée pour les variables qualitatives (implémentez cette partie si nécessaire).</p>\"))\n",
    "                \n",
    "                            if quant_selected_choice =='0':\n",
    "                                display(HTML(\"<p>Affectation de la valeur 0 pour les variables quantitatives.</p>\"))\n",
    "                                impute_zero(data_filtered)\n",
    "                            elif quant_selected_choice =='KNN':\n",
    "                                display(HTML(\"<p>Utilisation de la éthode KNN pour imputer les valeurs manquantes des variables quantitatives.</p>\"))\n",
    "                                KNN_imputer(data_filtered)\n",
    "                \n",
    "                            find_missing_value(data_filtered)\n",
    "                            \n",
    "                    # Créer un bouton pour valider la sélection\n",
    "                    button = widgets.Button(description=\"Confirmer la sélection\")\n",
    "                    button.on_click(on_button_click)\n",
    "                    # Afficher le bouton et la sortie\n",
    "                    display(button)\n",
    "\n",
    "    # Créer un bouton pour valider la sélection du bouton radio\n",
    "    radio_confirm_button = widgets.Button(description=\"Confirmer le choix\")\n",
    "    radio_confirm_button.on_click(on_radio_confirm_click)\n",
    "    display(radio_confirm_button)\n",
    "    # default_choice.observe(on_default_choice_change, names='value')\n",
    "    display(output)\n",
    "            \n",
    "        # def continue_with_selection(selected_choice):\n",
    "        #     # Cette fonction peut contenir la suite de ton script en fonction de `selected_choice`\n",
    "        #     print(f\"Continuer avec la sélection : {selected_choice}\")"
   ]
  },
  {
   "cell_type": "code",
   "execution_count": null,
   "id": "4f956cce-1165-4482-aca7-2fce6fe8eef5",
   "metadata": {},
   "outputs": [],
   "source": [
    "def find_and_handles_missing_values(data_filtered):\n",
    "    title(title=\"Identifiez et traitez les valeurs manquantes\", title_size='h2')\n",
    "    title(title =\"Affichage des données manquantes Avant traitement des valeurs abérrantes\", title_size='h3')\n",
    "    # display(HTML(\"<h2>Identifiez et traitez les valeurs manquantes</h2>\"))\n",
    "    find_missing_value(data_filtered)\n",
    "    title(title =\"Affichage des données manquantes Après traitement des valeurs abérrantes\", title_size='h3')\n",
    "    # data_filtered= simple_imputer(data_filtered)\n",
    "    imputation_value(data_filtered)"
   ]
  },
  {
   "cell_type": "code",
   "execution_count": null,
   "id": "ca67a979-f990-4682-ab41-5bf7f523e5a0",
   "metadata": {},
   "outputs": [],
   "source": [
    "find_and_handles_missing_values(data_filtered)"
   ]
  },
  {
   "cell_type": "code",
   "execution_count": null,
   "id": "a773bc9e-1d36-4864-b564-30be858a1f2b",
   "metadata": {},
   "outputs": [],
   "source": []
  }
 ],
 "metadata": {
  "kernelspec": {
   "display_name": "Python (P3_env)",
   "language": "python",
   "name": "p3_env"
  },
  "language_info": {
   "codemirror_mode": {
    "name": "ipython",
    "version": 3
   },
   "file_extension": ".py",
   "mimetype": "text/x-python",
   "name": "python",
   "nbconvert_exporter": "python",
   "pygments_lexer": "ipython3",
   "version": "3.11.7"
  }
 },
 "nbformat": 4,
 "nbformat_minor": 5
}
