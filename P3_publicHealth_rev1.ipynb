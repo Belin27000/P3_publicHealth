{
 "cells": [
  {
   "cell_type": "markdown",
   "id": "56f29c39-b21a-4ec6-8c29-aa62aa6e0216",
   "metadata": {},
   "source": [
    "# Ce projet fonctionne avec les versions des package suivants:\n",
    "\n",
    "- matplotlib==3.9.0\n",
    "- pandas==2.2.2\n",
    "- seaborn==0.13.2\n",
    "- missingno==0.5.2\n",
    "- scikit-learn==1.5.1"
   ]
  },
  {
   "cell_type": "markdown",
   "id": "0210b0fc-cd59-4d88-8755-d86f153b327a",
   "metadata": {},
   "source": [
    "## The Data\n",
    "This is a dataset of food products listing the ingredients and nutritional facts of more than 300,000 foods from over 150 countries in the world. The data is meant to be free to the public to help users decode food labels, and make better food choices in general. The dataset contains more than 300,000 rows over 163 columns. However, as we will see there are a lot of missing or obviously incorrect values.<br/>\n",
    "Generalities:\n",
    "\n",
    "- fields that end with _t are dates in the UNIX timestamp format (number of seconds since Jan 1st 1970)\n",
    "- fields that end with _datetime are dates in the iso8601 format: yyyy-mm-ddThh:mn:ssZ\n",
    "- fields that end with _tags are comma separated list of tags (e.g. categories_tags is the set of normalized tags computer from the categories field)\n",
    "- fields that end with a language 2 letter code (e.g. fr for French) is the set of tags in that language\n",
    "- fields that end with _100g correspond to the amount of a nutriment (in g, or kJ for energy) for 100 g or 100 ml of product\n",
    "- fields that end with _serving correspond to the amount of a nutriment (in g, or kJ for energy) for 1 serving of the product\n",
    "\n",
    "Depuis le 26 juin 2024, la méthode de calcul du Nutri-Score a été mise à jour on peu en trouver les détails dans ce document:\n",
    "- https://www.santepubliquefrance.fr/content/download/150262/file/FAQ-updatedAlgo-FR_20231222.pdf\n",
    "\n",
    "En utilisant ce document, on peut selectionner les colonnes à conserver les plus pertinente."
   ]
  },
  {
   "cell_type": "code",
   "execution_count": 1505,
   "id": "893baf63-5e09-486e-88da-b22361dde0db",
   "metadata": {},
   "outputs": [],
   "source": [
    "import numpy as np\n",
    "import pandas as pd\n",
    "from scipy import stats\n",
    "\n",
    "\n",
    "import statsmodels.api as sm\n",
    "from sklearn.ensemble import IsolationForest\n",
    "from sklearn.metrics import mean_squared_error\n",
    "from sklearn.neighbors import KNeighborsClassifier\n",
    "from sklearn.impute import SimpleImputer,KNNImputer\n",
    "from sklearn.model_selection import train_test_split, cross_val_score\n",
    "import seaborn as sns\n",
    "import matplotlib.pyplot as plt\n",
    "import matplotlib.font_manager as fm\n",
    "\n",
    "import tkinter as tk\n",
    "from tkinter import filedialog\n",
    "\n",
    "import missingno as msno\n",
    "import ipywidgets as widgets\n",
    "from wordcloud import WordCloud\n",
    "from IPython.display import display, HTML,clear_output"
   ]
  },
  {
   "cell_type": "markdown",
   "id": "378a614d-d7e6-448f-9cb5-689062fe9f91",
   "metadata": {},
   "source": [
    "# Nettoyer et Filtrer les Features et Produits"
   ]
  },
  {
   "cell_type": "markdown",
   "id": "897f151d-ae63-46e3-b134-dde0f31bd943",
   "metadata": {},
   "source": [
    "## 1.1. Collecter et Préparer les Données Brutes\n",
    "### 1. Charger les données dans un DataFrame Pandas"
   ]
  },
  {
   "cell_type": "code",
   "execution_count": 1509,
   "id": "ff862e8a-f704-4dff-85dd-ba11163b348b",
   "metadata": {},
   "outputs": [],
   "source": [
    "def project_init():\n",
    "    global original_data, original_selected\n",
    "    display(HTML(\"<h1 style='color: navy'>Open Food Facts</h1>\"))\n",
    "    print('Initialisation du projet...', end='\\r')\n",
    "    filepath ='datas/openfoodfacts.csv'\n",
    "    target ='nutrition_grade_fr'\n",
    "    original_selected=['energy_100g','saturated-fat_100g','sugars_100g','salt_100g','proteins_100g','fiber_100g']\n",
    "    # selected = ['energy_100g','salt_100g','alcohol_100g','cocoa_100g','potassium_100g','nutrition_grade_fr']\n",
    "    original_data = pd.read_csv(f\"{filepath}\", sep=\"\\t\", encoding=\"utf-8\", on_bad_lines=\"skip\", low_memory=False)\n",
    "    print(' '*len('Initialisation du projet...'), end='\\r')\n",
    "    print('Projet chargé')\n",
    "    return filepath, target, selected, original_data"
   ]
  },
  {
   "cell_type": "code",
   "execution_count": 1511,
   "id": "d32a1863-947b-4205-9f87-8c26555fa6ba",
   "metadata": {},
   "outputs": [
    {
     "data": {
      "text/html": [
       "<h1 style='color: navy'>Open Food Facts</h1>"
      ],
      "text/plain": [
       "<IPython.core.display.HTML object>"
      ]
     },
     "metadata": {},
     "output_type": "display_data"
    },
    {
     "name": "stdout",
     "output_type": "stream",
     "text": [
      "Projet chargé              \n"
     ]
    }
   ],
   "source": [
    "filepath, target, selected, original_data= project_init()"
   ]
  },
  {
   "cell_type": "code",
   "execution_count": 1512,
   "id": "68b74d30-f21c-43c2-847d-b20f6d2bfc5b",
   "metadata": {},
   "outputs": [],
   "source": [
    "def select_file():\n",
    "    print(\"charger le nouveau fichier\")\n",
    "    root =tk.Tk()\n",
    "    root.withdraw()\n",
    "\n",
    "    filepath = filedialog.askopenfilename(\n",
    "        title=\"Choisissez votre fichier csv\",\n",
    "        filetypes=((\"Fichiers CSV\",\"*.csv\"), (\"Tous les fichiers\",\"*.*\"))\n",
    "    )\n",
    "    print(' '*len(\"charger le nouveau fichier\"),end='\\r')\n",
    "    print(\"chargement en cours...\")\n",
    "    root.destroy()\n",
    "\n",
    "    if filepath:\n",
    "        try:\n",
    "            original_data = pd.read_csv(f\"{filepath}\", sep=\"\\t\", encoding=\"utf-8\", on_bad_lines=\"skip\", low_memory=False)\n",
    "            print(' '*len(\"chargement en cours...\"),end='\\r')\n",
    "            print(f\"Fichier chargé avec succès depuis le chemin: {filepath}\")\n",
    "            return original_data\n",
    "        except Exeption as e:\n",
    "            print(\"Erreur lors du chargement du fichier:\",e)\n",
    "    else:\n",
    "        print(\"Aucun fichier sélectionné.\")"
   ]
  },
  {
   "cell_type": "code",
   "execution_count": 1515,
   "id": "76f3ab9a-8000-40b7-bfc0-d169a253a426",
   "metadata": {},
   "outputs": [],
   "source": [
    "def split_features(data):\n",
    "    quantitative_features = data.select_dtypes(include=['float64','int64'])\n",
    "    qualitative_features = data.select_dtypes(include=['object'])\n",
    "    return quantitative_features,qualitative_features"
   ]
  },
  {
   "cell_type": "code",
   "execution_count": 1517,
   "id": "a2c19dbd-6ba7-4b08-8ce9-f8f15901d8cd",
   "metadata": {},
   "outputs": [],
   "source": [
    "def columns_to_keep(data, selected, target):\n",
    "    columns_list=['code','product_name']\n",
    "    selected = selected + columns_list\n",
    "    # print(target)\n",
    "    # print(selected)\n",
    "    if target not in selected:\n",
    "        selected.append(target)\n",
    "\n",
    "    filtered_data = data[selected]\n",
    "    # print(filtered_data.columns)\n",
    "    return filtered_data"
   ]
  },
  {
   "cell_type": "code",
   "execution_count": 1519,
   "id": "b8e5e99f-21b3-4b3c-a401-6434293fea55",
   "metadata": {},
   "outputs": [],
   "source": [
    "def clean_row_without_target(filtered_data,target):\n",
    "    # print(f'targte==> {target}')\n",
    "    # print(f'filtered_data==> {filtered_data.columns}')\n",
    "    data.shape\n",
    "    print(f\"Nombre de lignes avant suppression : {data.shape[0]}\")\n",
    "\n",
    "    display(HTML(\"<h4>suppression des lignes sans cible...</h4>\"))\n",
    "\n",
    "    data_cleaned = filtered_data.dropna(subset=[target])\n",
    "    # print(' '*len('suppression des lignes sans cible...'), end='\\r')\n",
    "    print('✅ Lignes sans cible supprimées')\n",
    "    print(f\"Nombre de lignes après suppression des ligne sans la cible '{target}' : {data_cleaned.shape[0]}\")\n",
    "    return data_cleaned"
   ]
  },
  {
   "cell_type": "code",
   "execution_count": 1521,
   "id": "92588410-0ac8-4f09-82a0-2cfc5b51e71c",
   "metadata": {},
   "outputs": [],
   "source": [
    "def nan_detection(data):\n",
    "    display(HTML(\"<h4>Nombre de valeur NaN des features selectionnées:</h4>\"))\n",
    "\n",
    "    nan_counts= data[original_selected].isna().sum()\n",
    "    # print(nan_counts)\n",
    "    return nan_counts"
   ]
  },
  {
   "cell_type": "code",
   "execution_count": 1523,
   "id": "1599171b-20ec-4200-a139-642488449c4b",
   "metadata": {},
   "outputs": [],
   "source": [
    "def nan_inputation(data):\n",
    "    exeption_col = ['energy_100g']\n",
    "    # Sélectionner les colonnes se terminant par '_100g'\n",
    "    columns_to_modify = [col for col in data.filter(regex='_100g').columns if col not in exeption_col]\n",
    "    \n",
    "    # Créer une copie des données\n",
    "    nan_inputation = data.copy()\n",
    "    \n",
    "    # Remplacer les valeurs supérieures à 100 ou inférieures à 0 par NaN uniquement dans les colonnes sélectionnées\n",
    "    nan_inputation.loc[:, columns_to_modify] = nan_inputation.loc[:, columns_to_modify].apply(\n",
    "        lambda x: np.where((x > 100) | (x < 0), np.nan, x)\n",
    "    )\n",
    "    \n",
    "    return nan_inputation"
   ]
  },
  {
   "cell_type": "code",
   "execution_count": 1537,
   "id": "726b542c-16ac-4aaa-b748-727928c34288",
   "metadata": {},
   "outputs": [],
   "source": [
    "def find_best_k(data_cleaned,original_selected):\n",
    "    \n",
    "    x = data_cleaned[original_selected]\n",
    "    \n",
    "    x_train, x_valid = train_test_split(x.dropna(), test_size=0.2, random_state=42)\n",
    "    \n",
    "    # Introduire des NaN dans l'ensemble de validation pour simuler les valeurs manquantes\n",
    "    x_valid_with_nan = x_valid.copy()\n",
    "    \n",
    "    missing_mask = np.random.rand(*x_valid_with_nan.shape) < 0.1  # Par exemple, 10% de valeurs manquantes ajoutées\n",
    "\n",
    "    x_valid_with_nan[missing_mask] = np.nan\n",
    "\n",
    "    k_range=range(1,10)\n",
    "    errors=[]\n",
    "\n",
    "    for k in k_range:\n",
    "        imputer = KNNImputer(n_neighbors=k)\n",
    "        x_valid_imputer = imputer.fit_transform(x_valid_with_nan)\n",
    "\n",
    "        mse=[]\n",
    "        for i in range(x_valid.shape[1]):\n",
    "            # Calcul l'erreur de l'imputation (par exemple ,l'erreur quadratique moyenne )\n",
    "            mse.append(mean_squared_error(x_valid.iloc[:,i][missing_mask[:,i]],\n",
    "                                          x_valid_imputer[:,i][missing_mask[:,i]]))\n",
    "        errors.append(np.mean(mse))\n",
    "\n",
    "    # Trouver le k avec la plus petite erreur\n",
    "    best_k =k_range[np.argmin(errors)]\n",
    "\n",
    "    print(f\"Le meilleur k est {best_k} avec une erreur quadratique moyenne de {min(errors):.4f}\")\n",
    "\n",
    "    plt.plot(k_range, errors)\n",
    "    plt.xlabel('Nombre de voisins k')\n",
    "    plt.ylabel('Erreur quadratique moyenne')\n",
    "    plt.title('Erreur en fonction du nombre de voisins k')\n",
    "    plt.show()\n",
    "        \n"
   ]
  },
  {
   "cell_type": "code",
   "execution_count": 1539,
   "id": "5e914564-18df-49e0-9a03-1a92aab54d8f",
   "metadata": {},
   "outputs": [],
   "source": [
    "def my_app():\n",
    "    data = original_data.copy()\n",
    "    selected = original_selected\n",
    "    # filepath, target, selected, data= project_init()\n",
    "    shape = data.shape\n",
    "    print(f'Shape :\\nLe jeu de données contient {shape[0]} lignes et {shape[1]} colonnes\\n')\n",
    "    print(f'Info :\\nLes information sur les colonnes du jeu de données sont les suivantes:\\n')\n",
    "    # data.info()\n",
    "    print(f'\\nDescribe :\\nInformation sur les différentes colonnes du jeu de données :\\n')\n",
    "    # print(data.describe())\n",
    "    \n",
    "    quantitative_features,qualitative_features = split_features(data)\n",
    "    \n",
    "    filtered_data = columns_to_keep(data,selected,target)\n",
    "    \n",
    "    # print(selected)\n",
    "    data_cleaned=clean_row_without_target(filtered_data,target)\n",
    "    nan_detection(data_cleaned)\n",
    "    \n",
    "    data_cleaned=nan_inputation(data_cleaned)\n",
    "    \n",
    "    nan_detection(data_cleaned)\n",
    "    # data_cleaned.head()\n",
    "    find_best_k(data_cleaned,selected)\n",
    "    # return data_cleaned"
   ]
  },
  {
   "cell_type": "code",
   "execution_count": 1541,
   "id": "3649bd05-1b66-49ea-84ad-96eda17a19a6",
   "metadata": {},
   "outputs": [
    {
     "name": "stdout",
     "output_type": "stream",
     "text": [
      "Shape :\n",
      "Le jeu de données contient 320772 lignes et 162 colonnes\n",
      "\n",
      "Info :\n",
      "Les information sur les colonnes du jeu de données sont les suivantes:\n",
      "\n",
      "\n",
      "Describe :\n",
      "Information sur les différentes colonnes du jeu de données :\n",
      "\n",
      "Nombre de lignes avant suppression : 320772\n"
     ]
    },
    {
     "data": {
      "text/html": [
       "<h4>suppression des lignes sans cible...</h4>"
      ],
      "text/plain": [
       "<IPython.core.display.HTML object>"
      ]
     },
     "metadata": {},
     "output_type": "display_data"
    },
    {
     "name": "stdout",
     "output_type": "stream",
     "text": [
      "✅ Lignes sans cible supprimées\n",
      "Nombre de lignes après suppression des ligne sans la cible 'nutrition_grade_fr' : 221210\n"
     ]
    },
    {
     "data": {
      "text/html": [
       "<h4>Nombre de valeur NaN des features selectionnées:</h4>"
      ],
      "text/plain": [
       "<IPython.core.display.HTML object>"
      ]
     },
     "metadata": {},
     "output_type": "display_data"
    },
    {
     "data": {
      "text/html": [
       "<h4>Nombre de valeur NaN des features selectionnées:</h4>"
      ],
      "text/plain": [
       "<IPython.core.display.HTML object>"
      ]
     },
     "metadata": {},
     "output_type": "display_data"
    },
    {
     "name": "stdout",
     "output_type": "stream",
     "text": [
      "Le meilleur k est 9 avec une erreur quadratique moyenne de 58997.1363\n"
     ]
    },
    {
     "data": {
      "image/png": "[encoded data removed]",
      "text/plain": [
       "<Figure size 640x480 with 1 Axes>"
      ]
     },
     "metadata": {},
     "output_type": "display_data"
    }
   ],
   "source": [
    "my_app()"
   ]
  },
  {
   "cell_type": "code",
   "execution_count": null,
   "id": "6f1786a4-ae1d-4ed4-a6e3-157c2a9b1e41",
   "metadata": {},
   "outputs": [],
   "source": []
  }
 ],
 "metadata": {
  "kernelspec": {
   "display_name": "Python (P3_env)",
   "language": "python",
   "name": "p3_env"
  },
  "language_info": {
   "codemirror_mode": {
    "name": "ipython",
    "version": 3
   },
   "file_extension": ".py",
   "mimetype": "text/x-python",
   "name": "python",
   "nbconvert_exporter": "python",
   "pygments_lexer": "ipython3",
   "version": "3.11.7"
  }
 },
 "nbformat": 4,
 "nbformat_minor": 5
}
