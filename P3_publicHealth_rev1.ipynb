{
 "cells": [
  {
   "cell_type": "markdown",
   "id": "56f29c39-b21a-4ec6-8c29-aa62aa6e0216",
   "metadata": {},
   "source": [
    "# Ce projet fonctionne avec les versions des package suivants:\n",
    "\n",
    "- matplotlib==3.9.0\n",
    "- pandas==2.2.2\n",
    "- seaborn==0.13.2\n",
    "- missingno==0.5.2\n",
    "- scikit-learn==1.5.1"
   ]
  },
  {
   "cell_type": "markdown",
   "id": "0210b0fc-cd59-4d88-8755-d86f153b327a",
   "metadata": {},
   "source": [
    "## The Data\n",
    "This is a dataset of food products listing the ingredients and nutritional facts of more than 300,000 foods from over 150 countries in the world. The data is meant to be free to the public to help users decode food labels, and make better food choices in general. The dataset contains more than 300,000 rows over 163 columns. However, as we will see there are a lot of missing or obviously incorrect values.<br/>\n",
    "Generalities:\n",
    "\n",
    "- fields that end with _t are dates in the UNIX timestamp format (number of seconds since Jan 1st 1970)\n",
    "- fields that end with _datetime are dates in the iso8601 format: yyyy-mm-ddThh:mn:ssZ\n",
    "- fields that end with _tags are comma separated list of tags (e.g. categories_tags is the set of normalized tags computer from the categories field)\n",
    "- fields that end with a language 2 letter code (e.g. fr for French) is the set of tags in that language\n",
    "- fields that end with _100g correspond to the amount of a nutriment (in g, or kJ for energy) for 100 g or 100 ml of product\n",
    "- fields that end with _serving correspond to the amount of a nutriment (in g, or kJ for energy) for 1 serving of the product\n",
    "\n",
    "Depuis le 26 juin 2024, la méthode de calcul du Nutri-Score a été mise à jour on peu en trouver les détails dans ce document:\n",
    "- https://www.santepubliquefrance.fr/content/download/150262/file/FAQ-updatedAlgo-FR_20231222.pdf\n",
    "\n",
    "En utilisant ce document, on peut selectionner les colonnes à conserver les plus pertinente."
   ]
  },
  {
   "cell_type": "code",
   "execution_count": 1209,
   "id": "893baf63-5e09-486e-88da-b22361dde0db",
   "metadata": {},
   "outputs": [],
   "source": [
    "import numpy as np\n",
    "import pandas as pd\n",
    "from scipy import stats\n",
    "\n",
    "\n",
    "import statsmodels.api as sm\n",
    "from sklearn.impute import SimpleImputer,KNNImputer\n",
    "from sklearn.ensemble import IsolationForest\n",
    "import seaborn as sns\n",
    "import matplotlib.pyplot as plt\n",
    "import matplotlib.font_manager as fm\n",
    "\n",
    "import tkinter as tk\n",
    "from tkinter import filedialog\n",
    "\n",
    "import missingno as msno\n",
    "import ipywidgets as widgets\n",
    "from wordcloud import WordCloud\n",
    "from IPython.display import display, HTML,clear_output"
   ]
  },
  {
   "cell_type": "markdown",
   "id": "378a614d-d7e6-448f-9cb5-689062fe9f91",
   "metadata": {},
   "source": [
    "# Nettoyer et Filtrer les Features et Produits"
   ]
  },
  {
   "cell_type": "markdown",
   "id": "897f151d-ae63-46e3-b134-dde0f31bd943",
   "metadata": {},
   "source": [
    "## 1.1. Collecter et Préparer les Données Brutes\n",
    "### 1. Charger les données dans un DataFrame Pandas"
   ]
  },
  {
   "cell_type": "code",
   "execution_count": 1379,
   "id": "ff862e8a-f704-4dff-85dd-ba11163b348b",
   "metadata": {},
   "outputs": [],
   "source": [
    "def project_init():\n",
    "    global original_data, original_selected\n",
    "    display(HTML(\"<h1 style='color: navy'>Open Food Facts</h1>\"))\n",
    "    print('Initialisation du projet...', end='\\r')\n",
    "    filepath ='datas/openfoodfacts.csv'\n",
    "    target ='nutrition_grade_fr'\n",
    "    original_selected=['energy_100g','saturated-fat_100g','sugars_100g','salt_100g','proteins_100g','fiber_100g']\n",
    "    # selected = ['energy_100g','salt_100g','alcohol_100g','cocoa_100g','potassium_100g','nutrition_grade_fr']\n",
    "    original_data = pd.read_csv(f\"{filepath}\", sep=\"\\t\", encoding=\"utf-8\", on_bad_lines=\"skip\", low_memory=False)\n",
    "    print(' '*len('Initialisation du projet...'), end='\\r')\n",
    "    print('Projet chargé')\n",
    "    return filepath, target, selected, original_data"
   ]
  },
  {
   "cell_type": "code",
   "execution_count": 1381,
   "id": "d32a1863-947b-4205-9f87-8c26555fa6ba",
   "metadata": {},
   "outputs": [
    {
     "data": {
      "text/html": [
       "<h1 style='color: navy'>Open Food Facts</h1>"
      ],
      "text/plain": [
       "<IPython.core.display.HTML object>"
      ]
     },
     "metadata": {},
     "output_type": "display_data"
    },
    {
     "name": "stdout",
     "output_type": "stream",
     "text": [
      "Projet chargé              \n"
     ]
    }
   ],
   "source": [
    "filepath, target, selected, original_data= project_init()"
   ]
  },
  {
   "cell_type": "code",
   "execution_count": 1382,
   "id": "68b74d30-f21c-43c2-847d-b20f6d2bfc5b",
   "metadata": {},
   "outputs": [],
   "source": [
    "def select_file():\n",
    "    print(\"charger le nouveau fichier\")\n",
    "    root =tk.Tk()\n",
    "    root.withdraw()\n",
    "\n",
    "    filepath = filedialog.askopenfilename(\n",
    "        title=\"Choisissez votre fichier csv\",\n",
    "        filetypes=((\"Fichiers CSV\",\"*.csv\"), (\"Tous les fichiers\",\"*.*\"))\n",
    "    )\n",
    "    print(' '*len(\"charger le nouveau fichier\"),end='\\r')\n",
    "    print(\"chargement en cours...\")\n",
    "    root.destroy()\n",
    "\n",
    "    if filepath:\n",
    "        try:\n",
    "            original_data = pd.read_csv(f\"{filepath}\", sep=\"\\t\", encoding=\"utf-8\", on_bad_lines=\"skip\", low_memory=False)\n",
    "            print(' '*len(\"chargement en cours...\"),end='\\r')\n",
    "            print(f\"Fichier chargé avec succès depuis le chemin: {filepath}\")\n",
    "            return original_data\n",
    "        except Exeption as e:\n",
    "            print(\"Erreur lors du chargement du fichier:\",e)\n",
    "    else:\n",
    "        print(\"Aucun fichier sélectionné.\")"
   ]
  },
  {
   "cell_type": "code",
   "execution_count": 1383,
   "id": "76f3ab9a-8000-40b7-bfc0-d169a253a426",
   "metadata": {},
   "outputs": [],
   "source": [
    "def split_features(data):\n",
    "    quantitative_features = data.select_dtypes(include=['float64','int64'])\n",
    "    qualitative_features = data.select_dtypes(include=['object'])\n",
    "    return quantitative_features,qualitative_features"
   ]
  },
  {
   "cell_type": "code",
   "execution_count": 1384,
   "id": "a2c19dbd-6ba7-4b08-8ce9-f8f15901d8cd",
   "metadata": {},
   "outputs": [],
   "source": [
    "def columns_to_keep(data, selected, target):\n",
    "    columns_list=['code','product_name']\n",
    "    selected = selected + columns_list\n",
    "    # print(target)\n",
    "    # print(selected)\n",
    "    if target not in selected:\n",
    "        selected.append(target)\n",
    "\n",
    "    filtered_data = data[selected]\n",
    "    print(filtered_data.columns)\n",
    "    return filtered_data"
   ]
  },
  {
   "cell_type": "code",
   "execution_count": 1389,
   "id": "b8e5e99f-21b3-4b3c-a401-6434293fea55",
   "metadata": {},
   "outputs": [],
   "source": [
    "def clean_row_without_target(filtered_data,target):\n",
    "    # print(f'targte==> {target}')\n",
    "    # print(f'filtered_data==> {filtered_data.columns}')\n",
    "    data.shape\n",
    "    print(f\"Nombre de lignes avant suppression : {data.shape[0]}\")\n",
    "\n",
    "    display(HTML(\"<h4>suppression des lignes sans cible...</h4>\"))\n",
    "\n",
    "    data_cleaned = filtered_data.dropna(subset=[target])\n",
    "    # print(' '*len('suppression des lignes sans cible...'), end='\\r')\n",
    "    print('✅ Lignes sans cible supprimées')\n",
    "    print(f\"Nombre de lignes après suppression des ligne sans la cible '{target}' : {data_cleaned.shape[0]}\")\n",
    "    return data_cleaned"
   ]
  },
  {
   "cell_type": "code",
   "execution_count": 1391,
   "id": "92588410-0ac8-4f09-82a0-2cfc5b51e71c",
   "metadata": {},
   "outputs": [],
   "source": [
    "def nan_detection(data):\n",
    "    display(HTML(\"<h4>Nombre de valeur NaN des features selectionnées:</h4>\"))\n",
    "\n",
    "    nan_counts= data[original_selected].isna().sum()\n",
    "    print(nan_counts)\n",
    "    return nan_counts"
   ]
  },
  {
   "cell_type": "code",
   "execution_count": 1409,
   "id": "1599171b-20ec-4200-a139-642488449c4b",
   "metadata": {},
   "outputs": [],
   "source": [
    "def nan_inputation(data):\n",
    "    exeption_col = ['energy_100g']\n",
    "    # Sélectionner les colonnes se terminant par '_100g'\n",
    "    columns_to_modify = [col for col in data.filter(regex='_100g').columns if col not in exeption_col]\n",
    "    \n",
    "    # Créer une copie des données\n",
    "    nan_inputation = data.copy()\n",
    "    \n",
    "    # Remplacer les valeurs supérieures à 100 ou inférieures à 0 par NaN uniquement dans les colonnes sélectionnées\n",
    "    nan_inputation.loc[:, columns_to_modify] = nan_inputation.loc[:, columns_to_modify].apply(\n",
    "        lambda x: np.where((x > 100) | (x < 0), np.nan, x)\n",
    "    )\n",
    "    \n",
    "    return nan_inputation"
   ]
  },
  {
   "cell_type": "code",
   "execution_count": 1411,
   "id": "5e914564-18df-49e0-9a03-1a92aab54d8f",
   "metadata": {},
   "outputs": [],
   "source": [
    "def my_app():\n",
    "    data = original_data.copy()\n",
    "    selected = original_selected\n",
    "    # filepath, target, selected, data= project_init()\n",
    "    shape = data.shape\n",
    "    print(f'Shape :\\nLe jeu de données contient {shape[0]} lignes et {shape[1]} colonnes\\n')\n",
    "    print(f'Info :\\nLes information sur les colonnes du jeu de données sont les suivantes:\\n')\n",
    "    data.info()\n",
    "    print(f'\\nDescribe :\\nInformation sur les différentes colonnes du jeu de données :\\n')\n",
    "    # print(data.describe())\n",
    "    \n",
    "    quantitative_features,qualitative_features = split_features(data)\n",
    "    \n",
    "    filtered_data = columns_to_keep(data,selected,target)\n",
    "    \n",
    "    # print(selected)\n",
    "    data_cleaned=clean_row_without_target(filtered_data,target)\n",
    "    nan_detection(data_cleaned)\n",
    "    \n",
    "    data_cleaned=nan_inputation(data_cleaned)\n",
    "    \n",
    "    nan_detection(data_cleaned)\n",
    "    data_cleaned.head()\n",
    "    return data_cleaned"
   ]
  },
  {
   "cell_type": "code",
   "execution_count": 1413,
   "id": "3649bd05-1b66-49ea-84ad-96eda17a19a6",
   "metadata": {},
   "outputs": [
    {
     "name": "stdout",
     "output_type": "stream",
     "text": [
      "Shape :\n",
      "Le jeu de données contient 320772 lignes et 162 colonnes\n",
      "\n",
      "Info :\n",
      "Les information sur les colonnes du jeu de données sont les suivantes:\n",
      "\n",
      "<class 'pandas.core.frame.DataFrame'>\n",
      "RangeIndex: 320772 entries, 0 to 320771\n",
      "Columns: 162 entries, code to water-hardness_100g\n",
      "dtypes: float64(106), object(56)\n",
      "memory usage: 396.5+ MB\n",
      "\n",
      "Describe :\n",
      "Information sur les différentes colonnes du jeu de données :\n",
      "\n",
      "Index(['energy_100g', 'saturated-fat_100g', 'sugars_100g', 'salt_100g',\n",
      "       'proteins_100g', 'fiber_100g', 'code', 'product_name',\n",
      "       'nutrition_grade_fr'],\n",
      "      dtype='object')\n",
      "Nombre de lignes avant suppression : 320772\n"
     ]
    },
    {
     "data": {
      "text/html": [
       "<h4>suppression des lignes sans cible...</h4>"
      ],
      "text/plain": [
       "<IPython.core.display.HTML object>"
      ]
     },
     "metadata": {},
     "output_type": "display_data"
    },
    {
     "name": "stdout",
     "output_type": "stream",
     "text": [
      "✅ Lignes sans cible supprimées\n",
      "Nombre de lignes après suppression des ligne sans la cible 'nutrition_grade_fr' : 221210\n"
     ]
    },
    {
     "data": {
      "text/html": [
       "<h4>Nombre de valeur NaN des features selectionnées:</h4>"
      ],
      "text/plain": [
       "<IPython.core.display.HTML object>"
      ]
     },
     "metadata": {},
     "output_type": "display_data"
    },
    {
     "name": "stdout",
     "output_type": "stream",
     "text": [
      "energy_100g             191\n",
      "saturated-fat_100g      191\n",
      "sugars_100g             191\n",
      "salt_100g               191\n",
      "proteins_100g           191\n",
      "fiber_100g            27440\n",
      "dtype: int64\n"
     ]
    },
    {
     "data": {
      "text/html": [
       "<h4>Nombre de valeur NaN des features selectionnées:</h4>"
      ],
      "text/plain": [
       "<IPython.core.display.HTML object>"
      ]
     },
     "metadata": {},
     "output_type": "display_data"
    },
    {
     "name": "stdout",
     "output_type": "stream",
     "text": [
      "energy_100g             191\n",
      "saturated-fat_100g      193\n",
      "sugars_100g             205\n",
      "salt_100g               243\n",
      "proteins_100g           193\n",
      "fiber_100g            27442\n",
      "dtype: int64\n"
     ]
    },
    {
     "data": {
      "text/html": [
       "<div>\n",
       "<style scoped>\n",
       "    .dataframe tbody tr th:only-of-type {\n",
       "        vertical-align: middle;\n",
       "    }\n",
       "\n",
       "    .dataframe tbody tr th {\n",
       "        vertical-align: top;\n",
       "    }\n",
       "\n",
       "    .dataframe thead th {\n",
       "        text-align: right;\n",
       "    }\n",
       "</style>\n",
       "<table border=\"1\" class=\"dataframe\">\n",
       "  <thead>\n",
       "    <tr style=\"text-align: right;\">\n",
       "      <th></th>\n",
       "      <th>energy_100g</th>\n",
       "      <th>saturated-fat_100g</th>\n",
       "      <th>sugars_100g</th>\n",
       "      <th>salt_100g</th>\n",
       "      <th>proteins_100g</th>\n",
       "      <th>fiber_100g</th>\n",
       "      <th>code</th>\n",
       "      <th>product_name</th>\n",
       "      <th>nutrition_grade_fr</th>\n",
       "    </tr>\n",
       "  </thead>\n",
       "  <tbody>\n",
       "    <tr>\n",
       "      <th>1</th>\n",
       "      <td>2243.0</td>\n",
       "      <td>28.57</td>\n",
       "      <td>14.29</td>\n",
       "      <td>0.00000</td>\n",
       "      <td>3.57</td>\n",
       "      <td>3.6</td>\n",
       "      <td>0000000004530</td>\n",
       "      <td>Banana Chips Sweetened (Whole)</td>\n",
       "      <td>d</td>\n",
       "    </tr>\n",
       "    <tr>\n",
       "      <th>2</th>\n",
       "      <td>1941.0</td>\n",
       "      <td>0.00</td>\n",
       "      <td>17.86</td>\n",
       "      <td>0.63500</td>\n",
       "      <td>17.86</td>\n",
       "      <td>7.1</td>\n",
       "      <td>0000000004559</td>\n",
       "      <td>Peanuts</td>\n",
       "      <td>b</td>\n",
       "    </tr>\n",
       "    <tr>\n",
       "      <th>3</th>\n",
       "      <td>2540.0</td>\n",
       "      <td>5.36</td>\n",
       "      <td>3.57</td>\n",
       "      <td>1.22428</td>\n",
       "      <td>17.86</td>\n",
       "      <td>7.1</td>\n",
       "      <td>0000000016087</td>\n",
       "      <td>Organic Salted Nut Mix</td>\n",
       "      <td>d</td>\n",
       "    </tr>\n",
       "    <tr>\n",
       "      <th>7</th>\n",
       "      <td>1833.0</td>\n",
       "      <td>4.69</td>\n",
       "      <td>15.62</td>\n",
       "      <td>0.13970</td>\n",
       "      <td>14.06</td>\n",
       "      <td>9.4</td>\n",
       "      <td>0000000016124</td>\n",
       "      <td>Organic Muesli</td>\n",
       "      <td>c</td>\n",
       "    </tr>\n",
       "    <tr>\n",
       "      <th>12</th>\n",
       "      <td>2230.0</td>\n",
       "      <td>5.00</td>\n",
       "      <td>3.33</td>\n",
       "      <td>1.60782</td>\n",
       "      <td>16.67</td>\n",
       "      <td>6.7</td>\n",
       "      <td>0000000016872</td>\n",
       "      <td>Zen Party Mix</td>\n",
       "      <td>d</td>\n",
       "    </tr>\n",
       "    <tr>\n",
       "      <th>...</th>\n",
       "      <td>...</td>\n",
       "      <td>...</td>\n",
       "      <td>...</td>\n",
       "      <td>...</td>\n",
       "      <td>...</td>\n",
       "      <td>...</td>\n",
       "      <td>...</td>\n",
       "      <td>...</td>\n",
       "      <td>...</td>\n",
       "    </tr>\n",
       "    <tr>\n",
       "      <th>320742</th>\n",
       "      <td>1477.0</td>\n",
       "      <td>0.00</td>\n",
       "      <td>2.35</td>\n",
       "      <td>0.03048</td>\n",
       "      <td>1.18</td>\n",
       "      <td>4.7</td>\n",
       "      <td>9787461062105</td>\n",
       "      <td>Natural Cassava</td>\n",
       "      <td>a</td>\n",
       "    </tr>\n",
       "    <tr>\n",
       "      <th>320751</th>\n",
       "      <td>1643.0</td>\n",
       "      <td>0.60</td>\n",
       "      <td>2.60</td>\n",
       "      <td>0.68000</td>\n",
       "      <td>13.00</td>\n",
       "      <td>5.9</td>\n",
       "      <td>9847548283004</td>\n",
       "      <td>Tartines craquantes bio au sarrasin</td>\n",
       "      <td>a</td>\n",
       "    </tr>\n",
       "    <tr>\n",
       "      <th>320757</th>\n",
       "      <td>2406.0</td>\n",
       "      <td>3.73</td>\n",
       "      <td>3.89</td>\n",
       "      <td>0.10000</td>\n",
       "      <td>21.22</td>\n",
       "      <td>12.2</td>\n",
       "      <td>9900000000233</td>\n",
       "      <td>Amandes</td>\n",
       "      <td>b</td>\n",
       "    </tr>\n",
       "    <tr>\n",
       "      <th>320763</th>\n",
       "      <td>21.0</td>\n",
       "      <td>0.20</td>\n",
       "      <td>0.50</td>\n",
       "      <td>0.02540</td>\n",
       "      <td>0.50</td>\n",
       "      <td>0.2</td>\n",
       "      <td>99111250</td>\n",
       "      <td>Thé vert Earl grey</td>\n",
       "      <td>c</td>\n",
       "    </tr>\n",
       "    <tr>\n",
       "      <th>320768</th>\n",
       "      <td>0.0</td>\n",
       "      <td>0.00</td>\n",
       "      <td>0.00</td>\n",
       "      <td>0.00000</td>\n",
       "      <td>0.00</td>\n",
       "      <td>0.0</td>\n",
       "      <td>99567453</td>\n",
       "      <td>Mint Melange Tea A Blend Of Peppermint, Lemon ...</td>\n",
       "      <td>b</td>\n",
       "    </tr>\n",
       "  </tbody>\n",
       "</table>\n",
       "<p>221210 rows × 9 columns</p>\n",
       "</div>"
      ],
      "text/plain": [
       "        energy_100g  saturated-fat_100g  sugars_100g  salt_100g  \\\n",
       "1            2243.0               28.57        14.29    0.00000   \n",
       "2            1941.0                0.00        17.86    0.63500   \n",
       "3            2540.0                5.36         3.57    1.22428   \n",
       "7            1833.0                4.69        15.62    0.13970   \n",
       "12           2230.0                5.00         3.33    1.60782   \n",
       "...             ...                 ...          ...        ...   \n",
       "320742       1477.0                0.00         2.35    0.03048   \n",
       "320751       1643.0                0.60         2.60    0.68000   \n",
       "320757       2406.0                3.73         3.89    0.10000   \n",
       "320763         21.0                0.20         0.50    0.02540   \n",
       "320768          0.0                0.00         0.00    0.00000   \n",
       "\n",
       "        proteins_100g  fiber_100g           code  \\\n",
       "1                3.57         3.6  0000000004530   \n",
       "2               17.86         7.1  0000000004559   \n",
       "3               17.86         7.1  0000000016087   \n",
       "7               14.06         9.4  0000000016124   \n",
       "12              16.67         6.7  0000000016872   \n",
       "...               ...         ...            ...   \n",
       "320742           1.18         4.7  9787461062105   \n",
       "320751          13.00         5.9  9847548283004   \n",
       "320757          21.22        12.2  9900000000233   \n",
       "320763           0.50         0.2       99111250   \n",
       "320768           0.00         0.0       99567453   \n",
       "\n",
       "                                             product_name nutrition_grade_fr  \n",
       "1                          Banana Chips Sweetened (Whole)                  d  \n",
       "2                                                 Peanuts                  b  \n",
       "3                                  Organic Salted Nut Mix                  d  \n",
       "7                                          Organic Muesli                  c  \n",
       "12                                          Zen Party Mix                  d  \n",
       "...                                                   ...                ...  \n",
       "320742                                    Natural Cassava                  a  \n",
       "320751                Tartines craquantes bio au sarrasin                  a  \n",
       "320757                                            Amandes                  b  \n",
       "320763                                 Thé vert Earl grey                  c  \n",
       "320768  Mint Melange Tea A Blend Of Peppermint, Lemon ...                  b  \n",
       "\n",
       "[221210 rows x 9 columns]"
      ]
     },
     "execution_count": 1413,
     "metadata": {},
     "output_type": "execute_result"
    }
   ],
   "source": [
    "my_app()"
   ]
  },
  {
   "cell_type": "code",
   "execution_count": null,
   "id": "6f1786a4-ae1d-4ed4-a6e3-157c2a9b1e41",
   "metadata": {},
   "outputs": [],
   "source": []
  }
 ],
 "metadata": {
  "kernelspec": {
   "display_name": "Python (P3_env)",
   "language": "python",
   "name": "p3_env"
  },
  "language_info": {
   "codemirror_mode": {
    "name": "ipython",
    "version": 3
   },
   "file_extension": ".py",
   "mimetype": "text/x-python",
   "name": "python",
   "nbconvert_exporter": "python",
   "pygments_lexer": "ipython3",
   "version": "3.11.7"
  }
 },
 "nbformat": 4,
 "nbformat_minor": 5
}
